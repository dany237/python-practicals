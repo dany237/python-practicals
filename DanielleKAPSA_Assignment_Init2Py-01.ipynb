{
 "cells": [
  {
   "cell_type": "markdown",
   "metadata": {},
   "source": [
    "1. "
   ]
  },
  {
   "cell_type": "code",
   "execution_count": 3,
   "metadata": {
    "collapsed": false
   },
   "outputs": [
    {
     "name": "stdout",
     "output_type": "stream",
     "text": [
      "Enter natural number:34\n",
      "6332659870762850625 307\n"
     ]
    }
   ],
   "source": [
    "n = int(input('Enter natural number:'))\n",
    "prod=1\n",
    "som=1\n",
    "for i in range(n):\n",
    "    if i%2==0:\n",
    "        prod=prod*(i+1)\n",
    "    else: \n",
    "        som=som+(i+1)\n",
    "print(prod, som)  "
   ]
  },
  {
   "cell_type": "markdown",
   "metadata": {},
   "source": [
    "2. Write a program that reads the number of the day of the week (from 0 to 6). If it is a\n",
    "working day, then the program will write the name of the corresponding day. Otherwise,\n",
    "it will write the word \"Weekend\"."
   ]
  },
  {
   "cell_type": "code",
   "execution_count": 5,
   "metadata": {
    "collapsed": false
   },
   "outputs": [
    {
     "name": "stdout",
     "output_type": "stream",
     "text": [
      "Enter the number of the day:7\n",
      "Weekend\n"
     ]
    }
   ],
   "source": [
    "n = int(input('Enter the number of the day:'))\n",
    "if n < 5 and n>0:\n",
    "    if n == 0:\n",
    "        print('Monday')\n",
    "    if n == 1:\n",
    "        print('Tuesday')\n",
    "    if n == 2:\n",
    "        print('Wednesday')\n",
    "    if n == 3:\n",
    "        print('Thursday')\n",
    "    if n == 4:\n",
    "        print('Friday')\n",
    "else:\n",
    "        print('Weekend')\n",
    "    "
   ]
  },
  {
   "cell_type": "markdown",
   "metadata": {},
   "source": [
    "2. Make a program that, given a month number (from 0 to 11), indicates how many days it\n",
    "has (28, 30 or 31), ignoring the leap years."
   ]
  },
  {
   "cell_type": "code",
   "execution_count": 2,
   "metadata": {
    "collapsed": false
   },
   "outputs": [
    {
     "name": "stdout",
     "output_type": "stream",
     "text": [
      "Enter the number of the Month4\n",
      "We have 30 days in this month\n"
     ]
    }
   ],
   "source": [
    "number_month=int(input('Enter the number of the Month'))\n",
    "if number_month == 1 or number_month == 3  or number_month == 5 or number_month == 8 or number_month == 10 or number_month == 12:\n",
    "    print('We have 31 days in this month')\n",
    "if number_month == 2:\n",
    "    print(\"We have 28 days in this month\")\n",
    "if number_month == 11 or number_month == 9 or number_month == 6 or number_month == 4 :\n",
    "    print(\"We have 30 days in this month\")\n",
    "    "
   ]
  },
  {
   "cell_type": "markdown",
   "metadata": {},
   "source": [
    "Write two versions of python code that displays your name 3 times. One version with a\n",
    "\"for loop\" and another version with a \"while loop\"."
   ]
  },
  {
   "cell_type": "code",
   "execution_count": 7,
   "metadata": {
    "collapsed": false
   },
   "outputs": [
    {
     "name": "stdout",
     "output_type": "stream",
     "text": [
      "Danielle\n",
      "Danielle\n",
      "Danielle\n"
     ]
    }
   ],
   "source": [
    "name = \"Danielle\"\n",
    "for i in range(3):\n",
    "    print(name)"
   ]
  },
  {
   "cell_type": "code",
   "execution_count": 10,
   "metadata": {
    "collapsed": false
   },
   "outputs": [
    {
     "name": "stdout",
     "output_type": "stream",
     "text": [
      "Danielle\n",
      "Danielle\n",
      "Danielle\n"
     ]
    }
   ],
   "source": [
    "i=0\n",
    "while i < 3 : \n",
    "    print(name)\n",
    "    i=i+1"
   ]
  },
  {
   "cell_type": "markdown",
   "metadata": {},
   "source": [
    "Given two numbers a0 and a1, the Fibonacci sequence they generate is constructed from\n",
    "the recursion formula $a_{n+1}= a_n + a_{n-1}$. Calculate the first 15 terms of a Fibonacci\n",
    "sequence, asking the user the initial values."
   ]
  },
  {
   "cell_type": "code",
   "execution_count": 12,
   "metadata": {
    "collapsed": false
   },
   "outputs": [
    {
     "name": "stdout",
     "output_type": "stream",
     "text": [
      "Enter first number:1\n",
      "Enter second number:0\n",
      "610\n"
     ]
    }
   ],
   "source": [
    "a0=int(input('Enter first number:'))\n",
    "a1=int(input('Enter second number:'))\n",
    "n=15\n",
    "for i in range(n):\n",
    "    an=a1+a0\n",
    "    a0, a1=a1, an\n",
    "print(an)"
   ]
  },
  {
   "cell_type": "markdown",
   "metadata": {},
   "source": [
    "Compute the first 30 terms of the sequence defined by $2x_{n+2} − x_{n+1}  − 6x_{n}  = 0$ sequence,\n",
    "given any two initial values $ x0 $ and $x1$"
   ]
  },
  {
   "cell_type": "code",
   "execution_count": 2,
   "metadata": {
    "collapsed": false
   },
   "outputs": [
    {
     "name": "stdout",
     "output_type": "stream",
     "text": [
      "Enter first number:30\n",
      "Enter second number:2\n",
      "Enter the number of the term30\n",
      "91.0\n",
      "51.5\n",
      "298.75\n",
      "303.875\n",
      "1048.1875\n",
      "1435.71875\n",
      "3862.421875\n",
      "6238.3671875\n",
      "14706.44921875\n",
      "26068.326171875\n",
      "57153.5107421875\n",
      "106781.73388671875\n",
      "224851.39916992188\n",
      "432770.9012451172\n",
      "890939.6481323242\n",
      "1743782.5278015137\n",
      "3544710.2082977295\n",
      "7003702.687553406\n",
      "14135981.968669891\n",
      "28079099.046995163\n",
      "56447495.429507256\n",
      "112461044.85573912\n",
      "225573008.71639132\n",
      "450169638.925413\n",
      "901803845.6118805\n",
      "1801410839.582179\n",
      "3606116956.6267314\n",
      "7207290997.059903\n",
      "14421996368.410145\n",
      "28832871175.38478\n"
     ]
    }
   ],
   "source": [
    "x0=int(input('Enter first number:'))\n",
    "x1=int(input('Enter second number:'))\n",
    "n = int(input('Enter the number of the term'))\n",
    "for i in range(n):\n",
    "    xn=(x1+6*x0)/2\n",
    "    x0,x1=x1,xn\n",
    "    print(xn)\n"
   ]
  },
  {
   "cell_type": "markdown",
   "metadata": {},
   "source": [
    "Write python code to determine whether or not a year is a leap year. Be sure you\n",
    "know what a leap year is."
   ]
  },
  {
   "cell_type": "code",
   "execution_count": 5,
   "metadata": {
    "collapsed": false
   },
   "outputs": [
    {
     "name": "stdout",
     "output_type": "stream",
     "text": [
      "Enter a year: 2019\n",
      "2019 is not a leap year\n"
     ]
    }
   ],
   "source": [
    "year = int(input(\"Enter a year: \"))\n",
    "\n",
    "if (year % 4) == 0:\n",
    "    if (year % 100) == 0:\n",
    "        if (year % 400) == 0:\n",
    "            print(\"{0} is a leap year\".format(year))\n",
    "        else:\n",
    "            print(\"{0} is not a leap year\".format(year))\n",
    "    else:\n",
    "        print(\"{0} is a leap year\".format(year))\n",
    "else:\n",
    "    print(\"{0} is not a leap year\".format(year))"
   ]
  },
  {
   "cell_type": "markdown",
   "metadata": {},
   "source": [
    "Write the code using only logical operators, i.e. no conditional branching."
   ]
  },
  {
   "cell_type": "code",
   "execution_count": 6,
   "metadata": {
    "collapsed": false
   },
   "outputs": [
    {
     "name": "stdout",
     "output_type": "stream",
     "text": [
      "Enter a year: 2019\n",
      "2019 is not a leap year\n"
     ]
    }
   ],
   "source": [
    "year = int(input(\"Enter a year: \")) \n",
    "if ((year % 4) == 0 and  (year % 100) == 0 and (year % 400) == 0) or ((year % 4) == 0 or  (year % 100) == 0 or (year % 400) == 0):\n",
    "    print(\"{0} is a leap year\".format(year))\n",
    "else:\n",
    "     print(\"{0} is not a leap year\".format(year))\n",
    "    "
   ]
  },
  {
   "cell_type": "markdown",
   "metadata": {},
   "source": [
    "Write python code that computes the sum of the square of the first n natural numbers.\n",
    "One version with a \"for loop\" and another version with a \"while loop\"."
   ]
  },
  {
   "cell_type": "code",
   "execution_count": 6,
   "metadata": {
    "collapsed": false
   },
   "outputs": [
    {
     "name": "stdout",
     "output_type": "stream",
     "text": [
      "Enter the natural number23\n"
     ]
    },
    {
     "data": {
      "text/plain": [
       "3795"
      ]
     },
     "execution_count": 6,
     "metadata": {},
     "output_type": "execute_result"
    }
   ],
   "source": [
    "number=int(input('Enter the natural number'))\n",
    "som = 0\n",
    "for i in range(number):\n",
    "    som=som+i**2\n",
    "som\n",
    "    "
   ]
  },
  {
   "cell_type": "code",
   "execution_count": 9,
   "metadata": {
    "collapsed": false
   },
   "outputs": [
    {
     "data": {
      "text/plain": [
       "3795"
      ]
     },
     "execution_count": 9,
     "metadata": {},
     "output_type": "execute_result"
    }
   ],
   "source": [
    "som = 0\n",
    "i = 0\n",
    "while i < number:\n",
    "    som=som+i**2\n",
    "    i=i+1\n",
    "som"
   ]
  },
  {
   "cell_type": "markdown",
   "metadata": {},
   "source": [
    "Write python code that prints, for a natural number M, the smallest natural number n such that$ 1^2 + 2^2 +· · ·+n^2 ≥ M.$ One version with a \"for loop\" and another version with a \"while loop\"."
   ]
  },
  {
   "cell_type": "code",
   "execution_count": 1,
   "metadata": {
    "collapsed": false
   },
   "outputs": [
    {
     "name": "stdout",
     "output_type": "stream",
     "text": [
      "Enter the natural number:10\n",
      "2\n"
     ]
    }
   ],
   "source": [
    "M=int(input('Enter the natural number:'))\n",
    "som=0\n",
    "minimun=0\n",
    "for i in range(M):\n",
    "    som=som+i**2\n",
    "    if som<=M:\n",
    "        minimun=i\n",
    "print(minimun)"
   ]
  },
  {
   "cell_type": "code",
   "execution_count": 5,
   "metadata": {
    "collapsed": false
   },
   "outputs": [
    {
     "name": "stdout",
     "output_type": "stream",
     "text": [
      "Enter the natural number:23\n",
      "0 0\n",
      "1 1\n",
      "2 5\n",
      "3 14\n",
      "4 30\n",
      "5\n"
     ]
    }
   ],
   "source": [
    "M=int(input('Enter the natural number:'))\n",
    "som=0\n",
    "i=0\n",
    "while som<=M:\n",
    "    som=som+i**2\n",
    "    print(i,som)\n",
    "    i=i+1\n",
    "print(i)"
   ]
  },
  {
   "cell_type": "markdown",
   "metadata": {},
   "source": [
    "Write python code that prints all the divisors of a given natural number."
   ]
  },
  {
   "cell_type": "code",
   "execution_count": 27,
   "metadata": {
    "collapsed": false
   },
   "outputs": [
    {
     "name": "stdout",
     "output_type": "stream",
     "text": [
      "Enter an integer:10\n",
      "The divisors of the number are:\n",
      "1\n",
      "2\n",
      "5\n",
      "10\n"
     ]
    }
   ],
   "source": [
    "n=int(input(\"Enter an integer:\"))\n",
    "print(\"The divisors of the number are:\")\n",
    "for i in range(1,n+1):\n",
    "    if(n%i==0):\n",
    "        print(i)"
   ]
  },
  {
   "cell_type": "code",
   "execution_count": 28,
   "metadata": {
    "collapsed": false
   },
   "outputs": [
    {
     "name": "stdout",
     "output_type": "stream",
     "text": [
      "Enter an integer:10\n",
      "The divisors of the number are:\n",
      "18\n"
     ]
    }
   ],
   "source": [
    "n=int(input(\"Enter an integer:\"))\n",
    "print(\"The divisors of the number are:\")\n",
    "for i in range(1,n+1):\n",
    "    if(n%i==0):\n",
    "        som=som+i\n",
    "print(som)"
   ]
  },
  {
   "cell_type": "markdown",
   "metadata": {},
   "source": [
    "Read an integer number between n 0 and 9 and print its multiplication table up to N\n",
    "where N is another another natural number read by the program."
   ]
  },
  {
   "cell_type": "code",
   "execution_count": 30,
   "metadata": {
    "collapsed": false
   },
   "outputs": [
    {
     "name": "stdout",
     "output_type": "stream",
     "text": [
      "Enter a number between 0 and 9 :6\n",
      "Enter another number:19\n",
      "0 * 6 = 0\n",
      "1 * 6 = 6\n",
      "2 * 6 = 12\n",
      "3 * 6 = 18\n",
      "4 * 6 = 24\n",
      "5 * 6 = 30\n",
      "6 * 6 = 36\n",
      "7 * 6 = 42\n",
      "8 * 6 = 48\n",
      "9 * 6 = 54\n",
      "10 * 6 = 60\n",
      "11 * 6 = 66\n",
      "12 * 6 = 72\n",
      "13 * 6 = 78\n",
      "14 * 6 = 84\n",
      "15 * 6 = 90\n",
      "16 * 6 = 96\n",
      "17 * 6 = 102\n",
      "18 * 6 = 108\n"
     ]
    }
   ],
   "source": [
    "n=int(input('Enter a number between 0 and 9 :'))\n",
    "N=int(input('Enter another number:'))\n",
    "for i in range(N):\n",
    "    print(i,'*',n ,'=',i*n)"
   ]
  },
  {
   "cell_type": "markdown",
   "metadata": {},
   "source": [
    "Write a program that prints all the numbers between 0 and 40 that are multiples of 3, 7\n",
    "or 11."
   ]
  },
  {
   "cell_type": "code",
   "execution_count": 1,
   "metadata": {
    "collapsed": false
   },
   "outputs": [
    {
     "name": "stdout",
     "output_type": "stream",
     "text": [
      "3\n",
      "6\n",
      "7\n",
      "9\n",
      "11\n",
      "12\n",
      "14\n",
      "15\n",
      "18\n",
      "21\n",
      "22\n",
      "24\n",
      "27\n",
      "28\n",
      "30\n",
      "33\n",
      "35\n",
      "36\n",
      "39\n"
     ]
    }
   ],
   "source": [
    "n=40\n",
    "for i in range(1, n + 1):\n",
    "    if (i % 3 == 0 or i % 7 == 0 or i%11 == 0):\n",
    "            print(i)"
   ]
  },
  {
   "cell_type": "markdown",
   "metadata": {},
   "source": [
    "Write python code that prints the floor of a float x. Recall that the floor of a float x is the\n",
    "largest integer value less than or equal to x, i.e. if E[x] is the floor of x, then it satisfies,\n",
    "\n",
    "$E[x] = 1 + E[x − 1]$\n",
    "\n",
    "PS: On Friday, you will be asked to write a recursive version of the above program."
   ]
  },
  {
   "cell_type": "code",
   "execution_count": 9,
   "metadata": {
    "collapsed": false
   },
   "outputs": [
    {
     "name": "stdout",
     "output_type": "stream",
     "text": [
      "Enter a float number8\n"
     ]
    },
    {
     "data": {
      "text/plain": [
       "8"
      ]
     },
     "execution_count": 9,
     "metadata": {},
     "output_type": "execute_result"
    }
   ],
   "source": [
    "n=float(input('Enter a float number'))\n",
    "import math\n",
    "math.floor(n)"
   ]
  },
  {
   "cell_type": "code",
   "execution_count": null,
   "metadata": {
    "collapsed": true
   },
   "outputs": [],
   "source": []
  },
  {
   "cell_type": "markdown",
   "metadata": {},
   "source": [
    "Given a point in the plane by its Cartesian coordinates, determine in which quadrant it is\n",
    "(1st, 2nd, 3rd, 4th), if it lies on an axis, or if it is the origin. Do this for several points in\n",
    "the same execution of the program until the user quits."
   ]
  },
  {
   "cell_type": "code",
   "execution_count": null,
   "metadata": {
    "collapsed": false
   },
   "outputs": [],
   "source": [
    "response = 'Y'\n",
    "while response == 'Y':\n",
    "    ax=int(input('Enter the abscisse point'))\n",
    "    ay=int(input('Enter the origin point'))\n",
    "    if ax <= 0 and ay <= 0: \n",
    "        print('3rd')\n",
    "    if ax <= 0 and ay >= 0: \n",
    "        print('1st')\n",
    "    if ax >= 0 and ay <= 0: \n",
    "        print('4th')\n",
    "    if ax >= 0 and ay >= 0: \n",
    "        print('2nd')\n",
    "    response=input(\"Do you want to continue? Y\\N\")"
   ]
  },
  {
   "cell_type": "markdown",
   "metadata": {},
   "source": [
    "Ask for an integer number between 0 and 9, denoted x. Once the user has entered a correct\n",
    "number (that is one in the range [0..10)) the program asks for a second integer number\n",
    "between 0 and 255, denoted max. The program continues asking for the number until it\n",
    "is correct (that it is in the range [0..256)). When this is done, show all multiples of x that\n",
    "are between 0 and max. Then, ask the user whether he/she wants to continue; if in the\n",
    "affirmative, ask for another couple of numbers, otherwise finish."
   ]
  },
  {
   "cell_type": "code",
   "execution_count": null,
   "metadata": {
    "collapsed": false
   },
   "outputs": [],
   "source": [
    "n=int(input('Enter number between 0 and 9'))\n",
    "maxi=0\n",
    "while response=='Y':\n",
    "    if n<=0 and n>=10:\n",
    "        while maxi<0 and maxi > 256:\n",
    "            maxi=int(input('Enter number between 0 and 255'))\n",
    "        for i in range(maxi):\n",
    "            if i%x==0:\n",
    "                print(i)\n",
    "    response=input(\"Do you want to continue? Y\\N\")"
   ]
  }
 ],
 "metadata": {
  "kernelspec": {
   "display_name": "Python 3",
   "language": "python",
   "name": "python3"
  },
  "language_info": {
   "codemirror_mode": {
    "name": "ipython",
    "version": 3
   },
   "file_extension": ".py",
   "mimetype": "text/x-python",
   "name": "python",
   "nbconvert_exporter": "python",
   "pygments_lexer": "ipython3",
   "version": "3.5.3"
  }
 },
 "nbformat": 4,
 "nbformat_minor": 2
}
