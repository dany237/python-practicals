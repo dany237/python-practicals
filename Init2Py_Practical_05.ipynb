{
  "nbformat": 4,
  "nbformat_minor": 5,
  "metadata": {
    "colab": {
      "name": "Copy of Init2Py_Practical_05.ipynb",
      "provenance": []
    },
    "kernelspec": {
      "display_name": "Python 3",
      "language": "python",
      "name": "python3"
    },
    "language_info": {
      "codemirror_mode": {
        "name": "ipython",
        "version": 3
      },
      "file_extension": ".py",
      "mimetype": "text/x-python",
      "name": "python",
      "nbconvert_exporter": "python",
      "pygments_lexer": "ipython3",
      "version": "3.8.10"
    }
  },
  "cells": [
    {
      "cell_type": "markdown",
      "metadata": {
        "id": "QYZn2ujP9tcA"
      },
      "source": [
        "\n",
        "\n",
        "    \n",
        "#    <center> <b> <span style=\"color:orange;\" >  `Python for Scientific Computing and Software Engineering ` </span> </b></center>\n",
        "\n",
        "\n",
        "## <center> <b> <span style=\"color:orange;\"> An Initiation to Programming using Python (Init2Py) </span> </b></center>\n",
        "\n",
        "### <center> <b> <span style=\"color:blue;\"> Travaux Pratiques: Fonctions</span> </b></center>\n",
        "\n"
      ],
      "id": "QYZn2ujP9tcA"
    },
    {
      "cell_type": "markdown",
      "metadata": {
        "id": "iMDzVKcl9tcE"
      },
      "source": [
        "#### **Exercice 00:**  \n",
        "> **Écrire une fonction `cube` qui retourne le cube de son argument.**"
      ],
      "id": "iMDzVKcl9tcE"
    },
    {
      "cell_type": "code",
      "metadata": {
        "id": "EbftYW1V9tcF"
      },
      "source": [
        "def cube():\n",
        "  'code which return the cube of the number '\n",
        "  n=int(input('Entrer un nombre'))\n",
        "  cube=n*n*n\n",
        "  return cube\n"
      ],
      "id": "EbftYW1V9tcF",
      "execution_count": null,
      "outputs": []
    },
    {
      "cell_type": "code",
      "metadata": {
        "id": "E7uZIN_rQZyr",
        "colab": {
          "base_uri": "https://localhost:8080/"
        },
        "outputId": "9a787bdb-56ea-4566-ad84-a79b8671fe89"
      },
      "source": [
        "print(cube.__doc__)"
      ],
      "id": "E7uZIN_rQZyr",
      "execution_count": null,
      "outputs": [
        {
          "output_type": "stream",
          "name": "stdout",
          "text": [
            "code which return the cube of the number \n"
          ]
        }
      ]
    },
    {
      "cell_type": "code",
      "metadata": {
        "id": "zj64XFCsHWLI",
        "colab": {
          "base_uri": "https://localhost:8080/"
        },
        "outputId": "d3c98adf-0fe7-4d6f-8aa1-0ea51d396d70"
      },
      "source": [
        "cube(3)"
      ],
      "id": "zj64XFCsHWLI",
      "execution_count": null,
      "outputs": [
        {
          "output_type": "execute_result",
          "data": {
            "text/plain": [
              "27"
            ]
          },
          "metadata": {},
          "execution_count": 3
        }
      ]
    },
    {
      "cell_type": "markdown",
      "metadata": {
        "id": "m1ac89qS9tcH"
      },
      "source": [
        "#### **Exercice 01:**  \n",
        "> **Déclarez une fonction `ajouter_deux_nombres`. Elle prend deux paramètres et renvoie leur somme.**"
      ],
      "id": "m1ac89qS9tcH"
    },
    {
      "cell_type": "code",
      "metadata": {
        "id": "E_AgGmNy9tcH"
      },
      "source": [
        "def ajouter_deux_nombres(n1,n2):\n",
        "  \"function return the sum of two arguments\"\n",
        "  sum=n1+n2\n",
        "  return sum\n"
      ],
      "id": "E_AgGmNy9tcH",
      "execution_count": null,
      "outputs": []
    },
    {
      "cell_type": "code",
      "metadata": {
        "id": "w9I33wO3IkqK",
        "colab": {
          "base_uri": "https://localhost:8080/"
        },
        "outputId": "89bbfc15-230d-4e7a-87e2-f60abce92059"
      },
      "source": [
        "ajouter_deux_nombres(2,2)"
      ],
      "id": "w9I33wO3IkqK",
      "execution_count": null,
      "outputs": [
        {
          "output_type": "execute_result",
          "data": {
            "text/plain": [
              "4"
            ]
          },
          "metadata": {},
          "execution_count": 5
        }
      ]
    },
    {
      "cell_type": "markdown",
      "metadata": {
        "id": "PKjvAV4y9tcJ"
      },
      "source": [
        "#### **Exercice 02:**  \n",
        "> **L'aire d'un cercle se calcule comme suit : aire = pi x r x r avec pi=3,14. Écrivez une fonction `aire_du_cercle` qui prend le rayon en argument et calcule l'aire du cercle correspodant.**"
      ],
      "id": "PKjvAV4y9tcJ"
    },
    {
      "cell_type": "code",
      "metadata": {
        "id": "AxGzHKXX9tcL"
      },
      "source": [
        "def aire_du_cercle(r):\n",
        "  pi=3.14\n",
        "  aire=pi*r*r\n",
        "  return r"
      ],
      "id": "AxGzHKXX9tcL",
      "execution_count": null,
      "outputs": []
    },
    {
      "cell_type": "code",
      "metadata": {
        "id": "Lttvec89I_eD",
        "colab": {
          "base_uri": "https://localhost:8080/"
        },
        "outputId": "ceb2b867-ec58-4730-9e48-91e9ab9f4315"
      },
      "source": [
        "aire_du_cercle(4)"
      ],
      "id": "Lttvec89I_eD",
      "execution_count": null,
      "outputs": [
        {
          "output_type": "execute_result",
          "data": {
            "text/plain": [
              "4"
            ]
          },
          "metadata": {},
          "execution_count": 7
        }
      ]
    },
    {
      "cell_type": "markdown",
      "metadata": {
        "id": "6OBRL3oj9tcL"
      },
      "source": [
        "#### **Exercice 03:**  \n",
        "> **La température en °C peut être convertie en °F à l'aide de cette formule : °F = (°C x 9/5) + 32. Écrivez une fonction `convert_celsius_en_fahrenheit` qui convertit les °C en °F**."
      ],
      "id": "6OBRL3oj9tcL"
    },
    {
      "cell_type": "code",
      "metadata": {
        "id": "LpDPEBxn9tcN"
      },
      "source": [
        "def convert_celsius_en_fahrenheit(t):\n",
        "  f=(t*(9/5))+32\n",
        "  return f"
      ],
      "id": "LpDPEBxn9tcN",
      "execution_count": null,
      "outputs": []
    },
    {
      "cell_type": "markdown",
      "metadata": {
        "id": "rJRPsZ2h9tcP"
      },
      "source": [
        "#### **Exercice 04:** \n",
        ">**Écrire une fonction somme avec un argument « tuple de longueur variable » qui calcule la somme des nombres contenus dans le tuple.Tester cette fonction par des appels avec différents tuples d’entiers ou de flottants.**"
      ],
      "id": "rJRPsZ2h9tcP"
    },
    {
      "cell_type": "code",
      "metadata": {
        "id": "7qn8Czdc9tcP",
        "colab": {
          "base_uri": "https://localhost:8080/"
        },
        "outputId": "d932adf3-889d-46a8-f65b-a7c2da0fc248"
      },
      "source": [
        "tupless = (1,2,3,5,8,9,6)\n",
        "tuplessfloat = (1.,2.,3.,5.,8.,9.,6.)\n",
        "liste = []\n",
        "print(type(tuples), type(liste))\n",
        "def sumtuple(tupl, n):\n",
        "  sum =0\n",
        "  for i in range(n):\n",
        "    sum = sum+tupl[i]\n",
        "  return sum\n",
        "sumtuple(tupless, len(tupless))\n",
        "sumtuple(tuplessfloat, len(tuplessfloat))"
      ],
      "id": "7qn8Czdc9tcP",
      "execution_count": null,
      "outputs": [
        {
          "output_type": "stream",
          "name": "stdout",
          "text": [
            "<class 'tuple'> <class 'list'>\n"
          ]
        },
        {
          "output_type": "execute_result",
          "data": {
            "text/plain": [
              "34.0"
            ]
          },
          "metadata": {},
          "execution_count": 22
        }
      ]
    },
    {
      "cell_type": "markdown",
      "metadata": {
        "id": "kls1kYNh9tcR"
      },
      "source": [
        "#### **Exercice 05:** \n",
        ">**Ecrire `somme_liste` qui calcule la somme des nombres contenus dans une liste.Tester cette fonction par des appels avec différents listes d’entiers ou de flottants.**"
      ],
      "id": "kls1kYNh9tcR"
    },
    {
      "cell_type": "code",
      "metadata": {
        "id": "khKG2ee49tcS",
        "colab": {
          "base_uri": "https://localhost:8080/"
        },
        "outputId": "928e0d2c-b4bc-4a42-a1f6-1bff52208116"
      },
      "source": [
        "def sumliste(maliste, n):\n",
        "  sum =0\n",
        "  for i in range(n):\n",
        "    sum = sum+maliste[i]\n",
        "  return sum\n",
        "maliste=[1,2,3,4,5,6]\n",
        "sumliste(maliste, len(maliste))"
      ],
      "id": "khKG2ee49tcS",
      "execution_count": 11,
      "outputs": [
        {
          "output_type": "execute_result",
          "data": {
            "text/plain": [
              "21"
            ]
          },
          "metadata": {},
          "execution_count": 11
        }
      ]
    },
    {
      "cell_type": "markdown",
      "metadata": {
        "id": "l4gQECfk9tcS"
      },
      "source": [
        "#### **Exercice 06:** \n",
        ">**Écrire une fonction somme qui  prend en argument un entier $n$ et retourne la somme  des $n$-prémiers entiers naturels.**"
      ],
      "id": "l4gQECfk9tcS"
    },
    {
      "cell_type": "code",
      "metadata": {
        "id": "KfbcZiGS9tcT",
        "colab": {
          "base_uri": "https://localhost:8080/"
        },
        "outputId": "e7ef17de-8254-432c-9853-3e64456b9148"
      },
      "source": [
        "def som(n):\n",
        "  som=0\n",
        "  for i in range(n+1):\n",
        "    som =som+i\n",
        "  return som\n",
        "som(3)"
      ],
      "id": "KfbcZiGS9tcT",
      "execution_count": null,
      "outputs": [
        {
          "output_type": "execute_result",
          "data": {
            "text/plain": [
              "6"
            ]
          },
          "metadata": {},
          "execution_count": 29
        }
      ]
    },
    {
      "cell_type": "markdown",
      "metadata": {
        "id": "tK9EsjZf9tcU"
      },
      "source": [
        "#### **Exercice 07:** \n",
        ">**Écrire une fonction `nom` qui demande à l'utilisateur d'entrer son nom ensuite son prénom et affiche son prénom suivit de son nom.**"
      ],
      "id": "tK9EsjZf9tcU"
    },
    {
      "cell_type": "code",
      "metadata": {
        "id": "REF7Fa939tcW",
        "colab": {
          "base_uri": "https://localhost:8080/"
        },
        "outputId": "427e790e-82c6-45ea-b18c-15e8ab2e47b2"
      },
      "source": [
        "def nom():\n",
        "  nom=input('Entrer votre nom :')\n",
        "  prenom=input('Entrer votre prenom: ')\n",
        "  print(prenom, nom)\n",
        "nom()"
      ],
      "id": "REF7Fa939tcW",
      "execution_count": null,
      "outputs": [
        {
          "output_type": "stream",
          "name": "stdout",
          "text": [
            "Entrer votre nom :D\n",
            "Entrer votre prenom: K\n",
            "K D\n"
          ]
        }
      ]
    },
    {
      "cell_type": "markdown",
      "metadata": {
        "id": "YSwrwcEz9tcX"
      },
      "source": [
        "#### **Exercice 08:** \n",
        ">**Écrire une fonction `nom` qui demande à l'utilisateur d'entrer son nom ensuite son prénom et affiche son prénom suivit de son nom.**"
      ],
      "id": "YSwrwcEz9tcX"
    },
    {
      "cell_type": "code",
      "metadata": {
        "id": "mRk-8h1P9tcZ",
        "colab": {
          "base_uri": "https://localhost:8080/"
        },
        "outputId": "95e85f60-e1b9-4183-e088-75fd86cd4036"
      },
      "source": [
        "def nom():\n",
        "  nom=input('Entrer votre nom :')\n",
        "  prenom=input('Entrer votre prenom: ')\n",
        "  print(prenom, nom)\n",
        "nom()\n"
      ],
      "id": "mRk-8h1P9tcZ",
      "execution_count": 8,
      "outputs": [
        {
          "output_type": "stream",
          "name": "stdout",
          "text": [
            "Entrer votre nom :f\n",
            "Entrer votre prenom: s\n",
            "s f\n"
          ]
        }
      ]
    },
    {
      "cell_type": "markdown",
      "metadata": {
        "id": "VYtzHXAd9tck"
      },
      "source": [
        "#### **Exercice 09:** \n",
        ">**Ecris une fonction `Maximum` qui renvoie le minimum de trois nombres.**"
      ],
      "id": "VYtzHXAd9tck"
    },
    {
      "cell_type": "code",
      "metadata": {
        "id": "A4tQ-qQQ9tcl"
      },
      "source": [
        "def maximun(a, b, c):\n",
        "  if a<b and a<c:\n",
        "    min=a\n",
        "  if b<a and b<c:\n",
        "    min=b\n",
        "  if c<a and c<b:\n",
        "    min=c\n",
        "  return min"
      ],
      "id": "A4tQ-qQQ9tcl",
      "execution_count": 4,
      "outputs": []
    },
    {
      "cell_type": "code",
      "metadata": {
        "colab": {
          "base_uri": "https://localhost:8080/"
        },
        "id": "i4pQRnpeGKyh",
        "outputId": "318a516c-12d8-4de7-ec70-148a86ccf45e"
      },
      "source": [
        " maximun(5, -38, -10)"
      ],
      "id": "i4pQRnpeGKyh",
      "execution_count": 7,
      "outputs": [
        {
          "output_type": "execute_result",
          "data": {
            "text/plain": [
              "-38"
            ]
          },
          "metadata": {},
          "execution_count": 7
        }
      ]
    },
    {
      "cell_type": "markdown",
      "metadata": {
        "id": "gTpTAnGm9tcm"
      },
      "source": [
        "#### **Exercice 10:**\n",
        ">**Soit $f(x)=ax^2+bx+c$ un trinôme du second degré.**\n",
        " 1. **Ecris une fonction `Discriminant` qui calcule son discriminant.**\n",
        " 2. **Ecris ensuite une fonction `existence_des_racines_du_trinome` qui discute suivant les valeurs du discriminant, l'existence de ses racines.** \n"
      ],
      "id": "gTpTAnGm9tcm"
    },
    {
      "cell_type": "code",
      "metadata": {
        "id": "w3IqQKF3U9aM"
      },
      "source": [
        "def Discriminant (a,b,c):\n",
        "  D= b*b -4*a*c\n",
        "  return D"
      ],
      "id": "w3IqQKF3U9aM",
      "execution_count": null,
      "outputs": []
    },
    {
      "cell_type": "code",
      "metadata": {
        "id": "qIptKw-OVQWN"
      },
      "source": [
        "from math import sqrt\n",
        "def existence_des_racines_du_trinome(a,b,c):\n",
        "  D=Discriminant (a,b,c)\n",
        "  if D < 0:\n",
        "    print('l\\' equation n\\'a pas de solution')\n",
        "  elif D==0:\n",
        "    print('l\\' equation a une unique solution', -b/2*a)\n",
        "  else:\n",
        "    x1=(-b+ sqrt(D))/(2*a)\n",
        "    x2=(-b- sqrt(D))/(2*a)\n",
        "    print('l\\'equation a deux solutions ', x1  ,x2)\n",
        "\n",
        "\n"
      ],
      "id": "qIptKw-OVQWN",
      "execution_count": null,
      "outputs": []
    },
    {
      "cell_type": "code",
      "metadata": {
        "id": "ZXK2VkRaX7ll",
        "colab": {
          "base_uri": "https://localhost:8080/"
        },
        "outputId": "7e97034b-6c48-49e4-bda3-4fbf96340d3b"
      },
      "source": [
        "existence_des_racines_du_trinome(2,-1,-6)"
      ],
      "id": "ZXK2VkRaX7ll",
      "execution_count": null,
      "outputs": [
        {
          "output_type": "stream",
          "name": "stdout",
          "text": [
            "l'equation a deux solutions  2.0 -1.5\n"
          ]
        }
      ]
    },
    {
      "cell_type": "markdown",
      "metadata": {
        "id": "WgJ06GHA9tcn"
      },
      "source": [
        "#### **Exercice 11:**\n",
        ">**Ecris une fonction qui affiche le reste de la division euclidienne d'un entier naturel $a$ par un entier naturel $b$**.\n"
      ],
      "id": "WgJ06GHA9tcn"
    },
    {
      "cell_type": "code",
      "metadata": {
        "id": "S1uM-Jca9tcn"
      },
      "source": [
        "def restediv(a, b):\n",
        "  if a<b:\n",
        "    a,b=b,a\n",
        "  if b==0:\n",
        "    return 0\n",
        "  q=0\n",
        "  r=a\n",
        "  while r>=b:\n",
        "    q=q+1\n",
        "    r=r-b\n",
        "  return r\n"
      ],
      "id": "S1uM-Jca9tcn",
      "execution_count": 2,
      "outputs": []
    },
    {
      "cell_type": "code",
      "metadata": {
        "colab": {
          "base_uri": "https://localhost:8080/"
        },
        "id": "P4OTygjBAKlc",
        "outputId": "3ef02852-3daa-428f-90b7-549b05398d69"
      },
      "source": [
        "restediv(9876543,21)"
      ],
      "id": "P4OTygjBAKlc",
      "execution_count": 3,
      "outputs": [
        {
          "output_type": "execute_result",
          "data": {
            "text/plain": [
              "12"
            ]
          },
          "metadata": {},
          "execution_count": 3
        }
      ]
    },
    {
      "cell_type": "markdown",
      "metadata": {
        "id": "dtC_cOVJ9tco"
      },
      "source": [
        "#### **Exercice 12:**\n",
        ">**Ecris une fonction `terme_suite_geometrique` qui affiche le n-ième terme d'une suite géométrique $(v_n)$ de premier terme $v_0$ et de raison $q$. Teste ce programme pour $v_0=2, q=3$ et $n=4$.**"
      ],
      "id": "dtC_cOVJ9tco"
    },
    {
      "cell_type": "code",
      "metadata": {
        "id": "TeLDRV8N9tco"
      },
      "source": [
        "def terme_suite_geometrique(v0, q, n):\n",
        "  for i in range(n):\n",
        "    v=v0*(q**i)\n",
        "    print(v)"
      ],
      "id": "TeLDRV8N9tco",
      "execution_count": null,
      "outputs": []
    },
    {
      "cell_type": "code",
      "metadata": {
        "id": "fqp3oNmJbetS",
        "colab": {
          "base_uri": "https://localhost:8080/"
        },
        "outputId": "07e2f567-9ad3-4e81-ca55-086659bc37db"
      },
      "source": [
        "terme_suite_geometrique(2, 3, 4)"
      ],
      "id": "fqp3oNmJbetS",
      "execution_count": null,
      "outputs": [
        {
          "output_type": "stream",
          "name": "stdout",
          "text": [
            "2\n",
            "6\n",
            "18\n",
            "54\n"
          ]
        }
      ]
    },
    {
      "cell_type": "markdown",
      "metadata": {
        "id": "GrmGuHwu9tco"
      },
      "source": [
        "#### **Exercice 13:**\n",
        ">**Écris une fonction `merci` prend en paramètre un `nom` et renvoie le message \"Merci pour votre présence à cet atelier,`nom`.**\n"
      ],
      "id": "GrmGuHwu9tco"
    },
    {
      "cell_type": "code",
      "metadata": {
        "id": "NJ0z0iht9tco"
      },
      "source": [
        "def merci(nom):\n",
        "  print(\"Merci pour votre presence à cet atelier\", nom)"
      ],
      "id": "NJ0z0iht9tco",
      "execution_count": null,
      "outputs": []
    },
    {
      "cell_type": "code",
      "metadata": {
        "id": "ZXpj2F_dcbOa",
        "colab": {
          "base_uri": "https://localhost:8080/"
        },
        "outputId": "97085f88-0b15-4c98-8c20-e2e45ff7e782"
      },
      "source": [
        "nom = input('Entrer le nom ')\n",
        "merci(nom)"
      ],
      "id": "ZXpj2F_dcbOa",
      "execution_count": null,
      "outputs": [
        {
          "output_type": "stream",
          "name": "stdout",
          "text": [
            "Entrer le nom k\n",
            "Merci pour votre presence k\n"
          ]
        }
      ]
    },
    {
      "cell_type": "markdown",
      "metadata": {
        "id": "T3jopRLc9tco"
      },
      "source": [
        "#### **Exercice 14:**\n",
        ">**Écris une fonction `ma_suite` qui définit la suite $(u_n)$ telle que  $$u_{n}=\\frac{2n^2+3n-1}{n+6}.$$\n",
        "Affiche son 5e terme.**\n"
      ],
      "id": "T3jopRLc9tco"
    },
    {
      "cell_type": "code",
      "metadata": {
        "id": "P1l82riw9tcp"
      },
      "source": [
        "l=[]\n",
        "def ma_suite(n):\n",
        "  for i in range(n+1):\n",
        "    u=(2*i*i + 3*i -1)/(i+1)\n",
        "  return u\n"
      ],
      "id": "P1l82riw9tcp",
      "execution_count": null,
      "outputs": []
    },
    {
      "cell_type": "code",
      "metadata": {
        "id": "NV4Eim81elw6",
        "colab": {
          "base_uri": "https://localhost:8080/"
        },
        "outputId": "cbb66b60-870c-4411-b614-36429331db8a"
      },
      "source": [
        "ma_suite(5)"
      ],
      "id": "NV4Eim81elw6",
      "execution_count": null,
      "outputs": [
        {
          "output_type": "execute_result",
          "data": {
            "text/plain": [
              "10.666666666666666"
            ]
          },
          "metadata": {},
          "execution_count": 69
        }
      ]
    },
    {
      "cell_type": "code",
      "metadata": {
        "id": "XLVoMBu0fHdl",
        "colab": {
          "base_uri": "https://localhost:8080/"
        },
        "outputId": "e4e6194d-56b4-42bf-8757-dfe0470b1b04"
      },
      "source": [
        "(2*5*5 + 3*5 -1)/(5+1)"
      ],
      "id": "XLVoMBu0fHdl",
      "execution_count": null,
      "outputs": [
        {
          "output_type": "execute_result",
          "data": {
            "text/plain": [
              "10.666666666666666"
            ]
          },
          "metadata": {},
          "execution_count": 63
        }
      ]
    },
    {
      "cell_type": "markdown",
      "metadata": {
        "id": "SIizzU_A9tcp"
      },
      "source": [
        "\n",
        "\n",
        "<center> <b> <span style=\"color:orange;\"> 🎉 FÉLICITATIONS ! 🎉 </span> </b></center>"
      ],
      "id": "SIizzU_A9tcp"
    }
  ]
}