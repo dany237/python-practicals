{
  "nbformat": 4,
  "nbformat_minor": 0,
  "metadata": {
    "colab": {
      "name": "Copy of Init2Py_Practical_04.ipynb",
      "provenance": []
    },
    "kernelspec": {
      "display_name": "Python 3",
      "language": "python",
      "name": "python3"
    },
    "language_info": {
      "codemirror_mode": {
        "name": "ipython",
        "version": 3
      },
      "file_extension": ".py",
      "mimetype": "text/x-python",
      "name": "python",
      "nbconvert_exporter": "python",
      "pygments_lexer": "ipython3",
      "version": "3.8.10"
    }
  },
  "cells": [
    {
      "cell_type": "markdown",
      "metadata": {
        "id": "LPINvDFo9Nce"
      },
      "source": [
        "\n",
        "\n",
        "    \n",
        "#    <center> <b> <span style=\"color:orange;\" >  `Python for Scientific Computing and Software Engineering ` </span> </b></center>\n",
        "\n",
        "\n",
        "## <center> <b> <span style=\"color:orange;\"> An Initiation to Programming using Python (Init2Py) </span> </b></center>\n",
        "\n",
        "### <center> <b> <span style=\"color:blue;\"> Travaux Pratiques: Loops</span> </b></center>\n",
        "\n",
        "\n",
        "\n",
        "\n",
        "\n",
        "\n",
        "\n"
      ]
    },
    {
      "cell_type": "markdown",
      "metadata": {
        "id": "0vAKMUYl9Nc1"
      },
      "source": [
        "#### Exercice 0\n",
        ">On se propose de résoudre dans l'ensemble des entiers naturels l'inéquation $2n(n+1)<100$.\n",
        "En utilisant une boucle **While**, écris un programme qui renvoie les solutions entières de cette inéquation."
      ]
    },
    {
      "cell_type": "code",
      "metadata": {
        "id": "tnXJLyHA9Nc4",
        "colab": {
          "base_uri": "https://localhost:8080/"
        },
        "outputId": "b4f789d7-9e5a-45c0-b5a6-178f1329ff54"
      },
      "source": [
        "n=0\n",
        "while(2*n*(n+1)<100):\n",
        "  print(n)\n",
        "  n=n+1"
      ],
      "execution_count": null,
      "outputs": [
        {
          "output_type": "stream",
          "name": "stdout",
          "text": [
            "0\n",
            "1\n",
            "2\n",
            "3\n",
            "4\n",
            "5\n",
            "6\n"
          ]
        }
      ]
    },
    {
      "cell_type": "markdown",
      "metadata": {
        "id": "USaieP9c9Nc5"
      },
      "source": [
        "#### Exercice 1\n",
        "> En utilisant une boucle **For**, écris un programme qui calcule la somme des 30 premiers entiers naturels non nuls."
      ]
    },
    {
      "cell_type": "code",
      "metadata": {
        "id": "-a76WFyH9Nc7",
        "colab": {
          "base_uri": "https://localhost:8080/"
        },
        "outputId": "a53a41ab-df9d-47e5-9a34-33ce2c145846"
      },
      "source": [
        "sum=0\n",
        "for i in range(31):\n",
        "  sum=sum+i\n",
        "sum"
      ],
      "execution_count": null,
      "outputs": [
        {
          "output_type": "execute_result",
          "data": {
            "text/plain": [
              "465"
            ]
          },
          "metadata": {},
          "execution_count": 4
        }
      ]
    },
    {
      "cell_type": "markdown",
      "metadata": {
        "id": "_070Czs09Nc8"
      },
      "source": [
        "#### Exercice 2\n",
        ">Refais l'exercice 1 en utilisant une boucle **While**."
      ]
    },
    {
      "cell_type": "code",
      "metadata": {
        "id": "m7dg2bhR9Nc9",
        "colab": {
          "base_uri": "https://localhost:8080/"
        },
        "outputId": "787f7557-7e39-4ecc-aa45-7dc36ef5a2ad"
      },
      "source": [
        "sum=0\n",
        "i=1\n",
        "while(i<30):\n",
        "  sum=sum+i\n",
        "  i=i+1\n",
        "sum"
      ],
      "execution_count": null,
      "outputs": [
        {
          "output_type": "execute_result",
          "data": {
            "text/plain": [
              "435"
            ]
          },
          "metadata": {},
          "execution_count": 6
        }
      ]
    },
    {
      "cell_type": "markdown",
      "metadata": {
        "id": "Hg1vBggc9Nc_"
      },
      "source": [
        "#### Exercice 3\n",
        ">En utilisant une boucle **For**, écris un programme qui calcule le produit des 9 premiers entiers naturels non nuls."
      ]
    },
    {
      "cell_type": "code",
      "metadata": {
        "id": "h0TkyvqS9NdB",
        "colab": {
          "base_uri": "https://localhost:8080/"
        },
        "outputId": "0c6da62a-9d64-4447-9339-64fa6787ca60"
      },
      "source": [
        "mult=1\n",
        "for i in range(1,10):\n",
        "  mult=mult*i\n",
        "mult"
      ],
      "execution_count": null,
      "outputs": [
        {
          "output_type": "execute_result",
          "data": {
            "text/plain": [
              "362880"
            ]
          },
          "metadata": {},
          "execution_count": 7
        }
      ]
    },
    {
      "cell_type": "markdown",
      "metadata": {
        "id": "a2iZm5y_9NdD"
      },
      "source": [
        "#### Exercice 4\n",
        "> Refais l'exercice 3 en utilisant une boucle **While**."
      ]
    },
    {
      "cell_type": "code",
      "metadata": {
        "colab": {
          "base_uri": "https://localhost:8080/"
        },
        "id": "AJR-t4nZE6v_",
        "outputId": "3ef2c8dd-4b24-4b4e-e256-ad4e06beb970"
      },
      "source": [
        "mult=1\n",
        "i=1\n",
        "while(i<10):\n",
        "  mult=mult*i\n",
        "  i=i+1\n",
        "mult"
      ],
      "execution_count": null,
      "outputs": [
        {
          "output_type": "execute_result",
          "data": {
            "text/plain": [
              "362880"
            ]
          },
          "metadata": {},
          "execution_count": 9
        }
      ]
    },
    {
      "cell_type": "markdown",
      "metadata": {
        "id": "rb3k7Bve9NdE"
      },
      "source": [
        "#### Exercice 5 \n",
        ">Écris un programme qui demande à l'utilisateur de saisir un nombre n et qui affiche tous les nombres pairs de $1$ à $n$ en utilisant la boucle **For**."
      ]
    },
    {
      "cell_type": "code",
      "metadata": {
        "id": "ibXs9RCB9NdF",
        "colab": {
          "base_uri": "https://localhost:8080/"
        },
        "outputId": "cbea536f-4ec0-45ff-d1ec-3fc91ae9138a"
      },
      "source": [
        "Nombre=int(input('Entrer un nombre:'))\n",
        "for i in range(Nombre+1):\n",
        "  if i%2==0:\n",
        "    print(i)\n"
      ],
      "execution_count": null,
      "outputs": [
        {
          "output_type": "stream",
          "name": "stdout",
          "text": [
            "Entrer un nombre:10\n",
            "0\n",
            "2\n",
            "4\n",
            "6\n",
            "8\n",
            "10\n"
          ]
        }
      ]
    },
    {
      "cell_type": "markdown",
      "metadata": {
        "id": "HPC3bfyE9NdG"
      },
      "source": [
        "#### Exercice 6\n",
        ">Refais l'exercice 5 en utilisant la boucle **While**."
      ]
    },
    {
      "cell_type": "code",
      "metadata": {
        "id": "dRuTyo3m9NdH",
        "colab": {
          "base_uri": "https://localhost:8080/"
        },
        "outputId": "01f35d37-e536-41bd-b2cb-1df9445cc3dd"
      },
      "source": [
        "Nombre=int(input('Entrer un nombre:'))\n",
        "i=0\n",
        "while i< Nombre :\n",
        "  if i%2==0:\n",
        "    print(i)\n",
        "  i=i+1"
      ],
      "execution_count": null,
      "outputs": [
        {
          "output_type": "stream",
          "name": "stdout",
          "text": [
            "Entrer un nombre:10\n",
            "0\n",
            "2\n",
            "4\n",
            "6\n",
            "8\n"
          ]
        }
      ]
    },
    {
      "cell_type": "code",
      "metadata": {
        "id": "j-axobZ7V_VJ",
        "colab": {
          "base_uri": "https://localhost:8080/"
        },
        "outputId": "f597c64f-0445-4355-ec50-c3b64834009a"
      },
      "source": [
        "for i in range(10,0,-1):\n",
        "  print(i)"
      ],
      "execution_count": null,
      "outputs": [
        {
          "output_type": "stream",
          "name": "stdout",
          "text": [
            "10\n",
            "9\n",
            "8\n",
            "7\n",
            "6\n",
            "5\n",
            "4\n",
            "3\n",
            "2\n",
            "1\n"
          ]
        }
      ]
    },
    {
      "cell_type": "markdown",
      "metadata": {
        "id": "6fNPIIdQ9NdH"
      },
      "source": [
        "#### Exercice 7\n",
        ">Écris un programme qui demande à l'utilisateur de saisir un nombre n et qui affiche tous les nombres impairs de 1 à n en utilisant la boucle **For**."
      ]
    },
    {
      "cell_type": "code",
      "metadata": {
        "id": "LuVEv9Lc9NdI",
        "colab": {
          "base_uri": "https://localhost:8080/"
        },
        "outputId": "a30de3d9-7d10-4105-b812-461820b1fdd4"
      },
      "source": [
        "Nombre=int(input('Entrer un nombre:'))\n",
        "for i in range(Nombre+1):\n",
        "  if i%2!=0:\n",
        "    print(i)"
      ],
      "execution_count": null,
      "outputs": [
        {
          "output_type": "stream",
          "name": "stdout",
          "text": [
            "Entrer un nombre:10\n",
            "1\n",
            "3\n",
            "5\n",
            "7\n",
            "9\n"
          ]
        }
      ]
    },
    {
      "cell_type": "markdown",
      "metadata": {
        "id": "HIlapsJ89NdK"
      },
      "source": [
        "#### Exercice 8\n",
        ">Refais l'exercice 7 en utilisant la boucle **While**.\n",
        "\n"
      ]
    },
    {
      "cell_type": "code",
      "metadata": {
        "id": "Igvjeb2E9NdM",
        "colab": {
          "base_uri": "https://localhost:8080/"
        },
        "outputId": "e087d1c7-bb8b-4520-915e-179c9f20a130"
      },
      "source": [
        "Nombre=int(input('Entrer un nombre:'))\n",
        "i=0\n",
        "while i< Nombre :\n",
        "  if i%2!=0:\n",
        "    print(i)\n",
        "  i=i+1"
      ],
      "execution_count": null,
      "outputs": [
        {
          "output_type": "stream",
          "name": "stdout",
          "text": [
            "Entrer un nombre:10\n",
            "1\n",
            "3\n",
            "5\n",
            "7\n",
            "9\n"
          ]
        }
      ]
    },
    {
      "cell_type": "markdown",
      "metadata": {
        "id": "KOYLg_e79NdU"
      },
      "source": [
        "#### Exercice 9\n",
        ">Écris un programme qui demande à l'utilisateur de saisir un nombre n et qui affiche sa table de multiplication  en utilisant la boucle **For**."
      ]
    },
    {
      "cell_type": "code",
      "metadata": {
        "id": "BvOU9oLw9NdU",
        "colab": {
          "base_uri": "https://localhost:8080/"
        },
        "outputId": "291b1d58-b3d0-451b-a915-459c53be5451"
      },
      "source": [
        "Nombre=int(input('Entrer un nombre:'))\n",
        "for i in range(10):\n",
        "    print(i,'*',Nombre,'=',i*Nombre)"
      ],
      "execution_count": null,
      "outputs": [
        {
          "output_type": "stream",
          "name": "stdout",
          "text": [
            "Entrer un nombre:10\n",
            "0 * 10 = 0\n",
            "1 * 10 = 10\n",
            "2 * 10 = 20\n",
            "3 * 10 = 30\n",
            "4 * 10 = 40\n",
            "5 * 10 = 50\n",
            "6 * 10 = 60\n",
            "7 * 10 = 70\n",
            "8 * 10 = 80\n",
            "9 * 10 = 90\n"
          ]
        }
      ]
    },
    {
      "cell_type": "markdown",
      "metadata": {
        "id": "Ukzy78L09NdV"
      },
      "source": [
        "#### Exercice 10\n",
        ">Refais l'exercice 9 en utilisant la boucle **While**."
      ]
    },
    {
      "cell_type": "code",
      "metadata": {
        "id": "fRJ3oufC9NdV",
        "colab": {
          "base_uri": "https://localhost:8080/"
        },
        "outputId": "93f78500-1713-4d29-90ce-87ab64cc68dc"
      },
      "source": [
        "Nombre=int(input('Entrer un nombre:'))\n",
        "i=0\n",
        "while i < 10:\n",
        "    print(i,'*',Nombre,'=',i*Nombre)\n",
        "    i=i+1"
      ],
      "execution_count": null,
      "outputs": [
        {
          "output_type": "stream",
          "name": "stdout",
          "text": [
            "Entrer un nombre:10\n",
            "0 * 10 = 0\n",
            "1 * 10 = 10\n",
            "2 * 10 = 20\n",
            "3 * 10 = 30\n",
            "4 * 10 = 40\n",
            "5 * 10 = 50\n",
            "6 * 10 = 60\n",
            "7 * 10 = 70\n",
            "8 * 10 = 80\n",
            "9 * 10 = 90\n"
          ]
        }
      ]
    },
    {
      "cell_type": "markdown",
      "metadata": {
        "id": "AQW435Hq9NdW"
      },
      "source": [
        "#### Exercice 11\n",
        ">Écris un programme qui demande à l'utilisateur d'entrer un nombre et de trouver tous ses diviseurs  en utilisant la boucle **For**."
      ]
    },
    {
      "cell_type": "code",
      "metadata": {
        "id": "Zjs_NfT89NdX",
        "colab": {
          "base_uri": "https://localhost:8080/"
        },
        "outputId": "ee6181ec-4826-4863-b818-f63eec45b34e"
      },
      "source": [
        "Nombre=int(input('Entrer un nombre:'))\n",
        "for i in range(1,Nombre+1):\n",
        "  if Nombre%i==0:\n",
        "    print(i)"
      ],
      "execution_count": null,
      "outputs": [
        {
          "output_type": "stream",
          "name": "stdout",
          "text": [
            "Entrer un nombre:10\n",
            "1\n",
            "2\n",
            "5\n",
            "10\n"
          ]
        }
      ]
    },
    {
      "cell_type": "markdown",
      "metadata": {
        "id": "pGp6labk9NdX"
      },
      "source": [
        "#### Exercice 12\n",
        ">Écris un programme qui demande à l'utilisateur d'entrer un entier naturel n et de trouver tous sa factorielle n!  en utilisant la boucle **For**. On rappelle que $n!=n*(n-1)*(n-2)...3*2*1$."
      ]
    },
    {
      "cell_type": "code",
      "metadata": {
        "id": "iDw3TKDU9NdX",
        "colab": {
          "base_uri": "https://localhost:8080/"
        },
        "outputId": "a00b8b52-430a-48a4-8d02-87a2795670e1"
      },
      "source": [
        "Nombre=int(input('Entrer un nombre:'))\n",
        "Fact=Nombre\n",
        "for i in range(1,Nombre):\n",
        "  Fact=Fact*(Nombre-i)\n",
        "Fact"
      ],
      "execution_count": null,
      "outputs": [
        {
          "name": "stdout",
          "output_type": "stream",
          "text": [
            "Entrer un nombre:5\n"
          ]
        },
        {
          "output_type": "execute_result",
          "data": {
            "text/plain": [
              "120"
            ]
          },
          "metadata": {},
          "execution_count": 29
        }
      ]
    },
    {
      "cell_type": "markdown",
      "metadata": {
        "id": "eyKh1oTo9NdY"
      },
      "source": [
        "#### Exercice 13\n",
        ">Écris un programme qui demande à l'utilisateur d'entrer deux entiers naturels (plus petits que 15) et de trouver leur plus petit commun multiple utilisant la boucle **For**."
      ]
    },
    {
      "cell_type": "code",
      "metadata": {
        "id": "ombGnLVQ9NdY",
        "colab": {
          "base_uri": "https://localhost:8080/"
        },
        "outputId": "7f93e0f3-db83-4290-d5d2-cb5c4a9f63ce"
      },
      "source": [
        "Nombre1=int(input('Entrer un nombre plus petit que 15:'))\n",
        "Nombre2=int(input('Entrer un nombre plus petit que 15:'))"
      ],
      "execution_count": null,
      "outputs": [
        {
          "name": "stdout",
          "output_type": "stream",
          "text": [
            "Entrer un nombre:5\n",
            "Entrer un nombre:5\n"
          ]
        },
        {
          "output_type": "execute_result",
          "data": {
            "text/plain": [
              "120"
            ]
          },
          "metadata": {},
          "execution_count": 30
        }
      ]
    },
    {
      "cell_type": "markdown",
      "metadata": {
        "id": "j4zO7-ak9NdZ"
      },
      "source": [
        "#### Exercice 14\n",
        ">Écris un programme pour afficher la série de Fibonacci jusqu'à n termes en utilisant une boucle."
      ]
    },
    {
      "cell_type": "code",
      "metadata": {
        "id": "5UknLOdY9NdZ"
      },
      "source": [
        ""
      ],
      "execution_count": null,
      "outputs": []
    },
    {
      "cell_type": "markdown",
      "metadata": {
        "id": "_RBVFZdl9Nda"
      },
      "source": [
        "#### Exercice 15\n",
        ">Écris, en utilisant une boucle **For**, un programme pour afficher 5 fois de suite le message \"Python est un très bon langage de programmation\"."
      ]
    },
    {
      "cell_type": "code",
      "metadata": {
        "id": "IA5dPbgd9Nda"
      },
      "source": [
        ""
      ],
      "execution_count": null,
      "outputs": []
    },
    {
      "cell_type": "markdown",
      "metadata": {
        "id": "VUgurSg59Nda"
      },
      "source": [
        "#### Exercice 16\n",
        ">Écris, en utilisant une boucle **While**, un programme pour afficher 7 fois de suite le message \"A cette allure je finirai par tout abandonner pour la programmation\"."
      ]
    },
    {
      "cell_type": "code",
      "metadata": {
        "id": "TgE99bdh9Ndb"
      },
      "source": [
        ""
      ],
      "execution_count": null,
      "outputs": []
    },
    {
      "cell_type": "markdown",
      "metadata": {
        "id": "DVgTXQRX9Ndb"
      },
      "source": [
        "#### Exercice 17\n",
        ">Écris, en utilisant une boucle **For**, un programme qui compte à l'envers de 10 à 0 puis qui affiche le message \"Partez\".\n"
      ]
    },
    {
      "cell_type": "code",
      "metadata": {
        "id": "w4L4KV6C9Ndc"
      },
      "source": [
        ""
      ],
      "execution_count": null,
      "outputs": []
    },
    {
      "cell_type": "markdown",
      "metadata": {
        "id": "raJAaAd29Ndc"
      },
      "source": [
        "#### Exercice 18\n",
        ">Écris, en utilisant une boucle **For**, un programme qui affiche chaque élément d'une chaine de caractère."
      ]
    },
    {
      "cell_type": "code",
      "metadata": {
        "id": "wZv1gX4c9Ndd"
      },
      "source": [
        ""
      ],
      "execution_count": null,
      "outputs": []
    },
    {
      "cell_type": "markdown",
      "metadata": {
        "id": "095_Dtoc9Ndf"
      },
      "source": [
        "#### Exercice 19\n",
        ">Écris, en utilisant une boucle **For**, un programme qui compte à l'envers de 10 à 0 puis qui affiche le message \"Partez\"."
      ]
    },
    {
      "cell_type": "code",
      "metadata": {
        "id": "MOV4pZzn9Ndg"
      },
      "source": [
        ""
      ],
      "execution_count": null,
      "outputs": []
    },
    {
      "cell_type": "markdown",
      "metadata": {
        "id": "5sUU7dgJ9Ndh"
      },
      "source": [
        "<center> <b> <span style=\"color:orange;\"> 🎉 FÉLICITATIONS ! / CONGRATULATIONS! 🎉 </span> </b></center>"
      ]
    }
  ]
}