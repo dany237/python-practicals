{
  "nbformat": 4,
  "nbformat_minor": 5,
  "metadata": {
    "kernelspec": {
      "display_name": "Python 3",
      "language": "python",
      "name": "python3"
    },
    "language_info": {
      "codemirror_mode": {
        "name": "ipython",
        "version": 3
      },
      "file_extension": ".py",
      "mimetype": "text/x-python",
      "name": "python",
      "nbconvert_exporter": "python",
      "pygments_lexer": "ipython3",
      "version": "3.8.10"
    },
    "colab": {
      "name": "Init2Py_Practical_01.ipynb",
      "provenance": []
    }
  },
  "cells": [
    {
      "cell_type": "markdown",
      "metadata": {
        "id": "22f02e1a"
      },
      "source": [
        "<center>\n",
        "    <a href=\"https://www.aims-senegal.org/\" ><img src=\"aimssn_logo.png\" style=\"float:center; max-width: 600px; display: inline\" alt=\"IMSP\"/> </a>\n",
        "    </center>\n",
        "    \n",
        "#    <center> <b> <span style=\"color:orange;\" >  `Python for Scientific Computing and Software Engineering ` </span> </b></center>\n",
        "\n",
        "\n",
        "## <center> <b> <span style=\"color:orange;\"> An Initiation to Programming using Python (Init2Py) </span> </b></center>\n",
        "\n",
        "### <center> <b> <span style=\"color:blue;\"> Practicals: Variables, Types & Operations </span> </b></center>"
      ],
      "id": "22f02e1a"
    },
    {
      "cell_type": "markdown",
      "metadata": {
        "id": "ddc667e7"
      },
      "source": [
        "**Exercise 00:**  \n",
        "\n",
        "> 1. Declare a variable `firstname` and assign it a value.\n",
        "> 2. Declare a `lastname` variable and assign a value to it.\n",
        "> 3. Declare a `full_name` variable and assign it a value.\n",
        "> 4. Declare a `country` variable and assign it a value.\n",
        "> 5. Declare a variable `city` and assign it a value.\n",
        "> 6. Declare a `age` variable and assign it a value.\n",
        "> 7. Declare a variable `year` and assign it a value.\n",
        "> 8. Declare a variable `is_marrie` and assign it a value.\n",
        "> 9. Declare a variable `is_true` and assign it a value.\n",
        "\n",
        "> For each of the above variable, display the value it contains using the `print()` function.\n",
        "\n",
        "\n"
      ],
      "id": "ddc667e7"
    },
    {
      "cell_type": "code",
      "metadata": {
        "id": "ebd3951d"
      },
      "source": [
        "firstname='Danielle'\n",
        "lastname='KAPSA'\n",
        "fullname='KAPSA Danielle'\n",
        "country='Cameroun'\n",
        "city='Yaounde'\n",
        "year='2021'\n",
        "is_marrie= False\n",
        "is_true=False"
      ],
      "id": "ebd3951d",
      "execution_count": null,
      "outputs": []
    },
    {
      "cell_type": "code",
      "metadata": {
        "colab": {
          "base_uri": "https://localhost:8080/"
        },
        "id": "FJ9EE29iorTO",
        "outputId": "ba14772d-2282-4141-d95d-eccf9f448f07"
      },
      "source": [
        "print('My first name is ', firstname,'and my last name is', lastname, 'my fullname are', fullname, 'i come from', country, 'city', city, 'and my matrimonial status is ', is_marrie )"
      ],
      "id": "FJ9EE29iorTO",
      "execution_count": null,
      "outputs": [
        {
          "output_type": "stream",
          "name": "stdout",
          "text": [
            "My first name is  Danielle and my last name is KAPSA my fullname are KAPSA Danielle i come from Cameroun city Yaounde and my matrimonial status is  False\n"
          ]
        }
      ]
    },
    {
      "cell_type": "markdown",
      "metadata": {
        "id": "85eb4f96"
      },
      "source": [
        "**Exercise 01:** \n",
        "> Check the data type of all your variables using the built-in function `type()`.**\n"
      ],
      "id": "85eb4f96"
    },
    {
      "cell_type": "code",
      "metadata": {
        "colab": {
          "base_uri": "https://localhost:8080/"
        },
        "id": "c5c47124",
        "outputId": "02f91a0b-0939-4c34-943b-f5aca918bfea"
      },
      "source": [
        "type(firstname)\n",
        "type(lastname)\n",
        "type(fullname)\n",
        "type(country)\n",
        "type(city)\n",
        "type(year)\n",
        "type(is_marrie)\n",
        "type(is_true)\n"
      ],
      "id": "c5c47124",
      "execution_count": null,
      "outputs": [
        {
          "output_type": "execute_result",
          "data": {
            "text/plain": [
              "str"
            ]
          },
          "metadata": {},
          "execution_count": 7
        }
      ]
    },
    {
      "cell_type": "markdown",
      "metadata": {
        "id": "76cdc19b"
      },
      "source": [
        "**Exercise 02:** \n",
        "> Calculate the value of $y$ ($y = x^2 + 6x + 9$). Try using different values of $x$ and determine at what value of $x$ will $y$ be equal to 0.**"
      ],
      "id": "76cdc19b"
    },
    {
      "cell_type": "code",
      "metadata": {
        "colab": {
          "base_uri": "https://localhost:8080/"
        },
        "id": "fb4df11a",
        "outputId": "f1448553-c9d5-47f5-9eca-17cdcd8768a4"
      },
      "source": [
        "x=int(input(\"Entrez un nombre : \"))"
      ],
      "id": "fb4df11a",
      "execution_count": null,
      "outputs": [
        {
          "name": "stdout",
          "output_type": "stream",
          "text": [
            "Entrez un nombre : 1\n"
          ]
        }
      ]
    },
    {
      "cell_type": "code",
      "metadata": {
        "colab": {
          "base_uri": "https://localhost:8080/"
        },
        "id": "NrIlR9MPsIw-",
        "outputId": "a37154ef-e480-4141-cca7-f28b62168229"
      },
      "source": [
        "y=x*x+6*x+9\n",
        "print (y)"
      ],
      "id": "NrIlR9MPsIw-",
      "execution_count": null,
      "outputs": [
        {
          "output_type": "stream",
          "name": "stdout",
          "text": [
            "16\n"
          ]
        }
      ]
    },
    {
      "cell_type": "code",
      "metadata": {
        "colab": {
          "base_uri": "https://localhost:8080/"
        },
        "id": "Ai7g6Ip-q6Fk",
        "outputId": "14f08a36-2c7f-475e-abb6-0a8643d0621d"
      },
      "source": [
        "x=0\n",
        "y=1\n",
        "while y!=0:\n",
        "  x=x-1\n",
        "  y=x*x+6*x+9\n",
        "print(x)"
      ],
      "id": "Ai7g6Ip-q6Fk",
      "execution_count": null,
      "outputs": [
        {
          "output_type": "stream",
          "name": "stdout",
          "text": [
            "-3\n"
          ]
        }
      ]
    },
    {
      "cell_type": "markdown",
      "metadata": {
        "id": "8f40e3ab"
      },
      "source": [
        "**Exercise 03:** \n",
        ">    \n",
        "     1. Declare your age as an integer variable\n",
        "     2. Declare your height as a float variable\n",
        "     3. Declare a variable that stores the base and height of a triangle. Calculate the area of this triangle (area = 0.5 x b x h)."
      ],
      "id": "8f40e3ab"
    },
    {
      "cell_type": "code",
      "metadata": {
        "colab": {
          "base_uri": "https://localhost:8080/"
        },
        "id": "hy1gid1MsmkN",
        "outputId": "264f626f-5678-43fe-ced8-b6ed8b568db7"
      },
      "source": [
        "age =45\n",
        "height=60.0\n",
        "b=int(input(\"Entrez la base du triangle: \"))\n",
        "h=int(input(\"Entrez la hauteur du triangle: \"))\n",
        "area = 0.5*b*h\n",
        "print('The area of the triangle is', area)"
      ],
      "id": "hy1gid1MsmkN",
      "execution_count": null,
      "outputs": [
        {
          "output_type": "stream",
          "name": "stdout",
          "text": [
            "Entrez la base du triangle: 2\n",
            "Entrez la hauteur du triangle: 2\n",
            "The area of the triangle is 2.0\n"
          ]
        }
      ]
    },
    {
      "cell_type": "markdown",
      "metadata": {
        "id": "9957391d"
      },
      "source": [
        "## *Tip: receiving input from the user *\n",
        "**To receive an input from the user, we use `input()`.**.\n",
        "\n",
        "**Example**\n",
        "Receive two numbers as input from the user and calculate their power:\n",
        "```python\n",
        "base = input(\"Enter a base: \")\n",
        "exponent = input(\"Enter an exponent: \")\n",
        "result = float(base) ** float(exponent)\n",
        "print(f \"{base} to the power of {exponent} = {result}\")\n",
        "```"
      ],
      "id": "9957391d"
    },
    {
      "cell_type": "markdown",
      "metadata": {
        "id": "0fb34716"
      },
      "source": [
        "**Exercise 04:** \n",
        "> **Write a small code that asks the user to enter the side $a$, the side $b$ and the side $c$ of a triangle. Calculate the perimeter of the triangle (perimeter = a + b + c).**"
      ],
      "id": "0fb34716"
    },
    {
      "cell_type": "code",
      "metadata": {
        "colab": {
          "base_uri": "https://localhost:8080/"
        },
        "id": "6618f067",
        "outputId": "2fffb90e-4437-4bae-fa85-ee071c319f30"
      },
      "source": [
        "a = input(\"Enter a side a: \")\n",
        "b = input(\"Enter a side b: \")\n",
        "c = input(\"Enter a side c: \")\n",
        "perimeter = float(a)+float(b)+float(c)\n",
        "print('The perimeter of the triangle with side', a,  b, 'and', c ,'is',perimeter)"
      ],
      "id": "6618f067",
      "execution_count": null,
      "outputs": [
        {
          "output_type": "stream",
          "name": "stdout",
          "text": [
            "Enter a side a: 5\n",
            "Enter a side b: 4\n",
            "Enter a side c: 5\n",
            "The perimeter of the triangle with side 5 4 and 5 is 14.0\n"
          ]
        }
      ]
    },
    {
      "cell_type": "markdown",
      "metadata": {
        "id": "e482c15c"
      },
      "source": [
        "**Exercise 05:** \n",
        "> **Obtain the length and width of a rectangle using the prompt. Calculate its `area`and its `perimeter`.**"
      ],
      "id": "e482c15c"
    },
    {
      "cell_type": "code",
      "metadata": {
        "colab": {
          "base_uri": "https://localhost:8080/"
        },
        "id": "286cec4c",
        "outputId": "d6101815-17d1-4f42-e91d-684cd34eecb2"
      },
      "source": [
        "l = input(\"Enter a  length: \")\n",
        "w = input(\"Enter a  width: \")\n",
        "area = float(l)*float(w)\n",
        "perimeter =  float(l)*float(w)*2\n",
        "print('The perimeter and the area of the rectangle with length', l, 'and the width', w,'are', perimeter, ',' ,area )"
      ],
      "id": "286cec4c",
      "execution_count": null,
      "outputs": [
        {
          "output_type": "stream",
          "name": "stdout",
          "text": [
            "Enter a side length: 5\n",
            "Enter a side width: 5\n",
            "The perimeter and the area of the rectangle with length 5 and the width 5 are 50.0 , 25.0\n"
          ]
        }
      ]
    },
    {
      "cell_type": "markdown",
      "metadata": {
        "id": "cf15844c"
      },
      "source": [
        "**Exercice 06:** \n",
        "> **Obtenez le rayon d'un cercle en utilisant l'invite. Calculez l'aire (aire = pi x r x r) et la circonférence (c = 2 x pi x r) où pi = 3,14.**"
      ],
      "id": "cf15844c"
    },
    {
      "cell_type": "code",
      "metadata": {
        "id": "V3ulh1COxw1z"
      },
      "source": [
        "import math as m"
      ],
      "id": "V3ulh1COxw1z",
      "execution_count": null,
      "outputs": []
    },
    {
      "cell_type": "code",
      "metadata": {
        "colab": {
          "base_uri": "https://localhost:8080/"
        },
        "id": "ee0ee85e",
        "outputId": "249866fe-b9ed-434b-fd72-f0dafae12b38"
      },
      "source": [
        "r = input(\"Enter a raduis: \")\n",
        "area = float(r)*float(r)*m.pi\n",
        "circumference =  float(r)*2*m.pi\n",
        "print('The circumference and the area of the circle with raduis', r, 'are',circumference , ',' ,area )"
      ],
      "id": "ee0ee85e",
      "execution_count": null,
      "outputs": [
        {
          "output_type": "stream",
          "name": "stdout",
          "text": [
            "Enter a raduis: 5\n",
            "The circumference and the area of the circle with raduis 5 are 31.41592653589793 , 78.53981633974483\n"
          ]
        }
      ]
    },
    {
      "cell_type": "markdown",
      "metadata": {
        "id": "d9dec37a"
      },
      "source": [
        "**Exercice 07:**\n",
        "> **Calculez la pente, l'ordonnée à l'origine en x et l'ordonnée à l'origine en $y$ de $y = 2x -2$.**"
      ],
      "id": "d9dec37a"
    },
    {
      "cell_type": "code",
      "metadata": {
        "colab": {
          "base_uri": "https://localhost:8080/"
        },
        "id": "203e449c",
        "outputId": "d2f8a754-a5fc-454a-80d5-fa39234956c3"
      },
      "source": [
        "xa=input('Entrer l\\' abscisse de A')\n",
        "xb=input('Entrer l\\' ordonnee de A')\n",
        "ya= 2*float(xa)-2\n",
        "yb= 2*float(xb)-2\n",
        "pente = ((float(yb)-float(ya))/(float(xb)-float(xa)))\n",
        "xo=ya-pente*float(xa)\n",
        "yo=yb-pente*float(xb)\n",
        "print(pente, xo, yo)"
      ],
      "id": "203e449c",
      "execution_count": 2,
      "outputs": [
        {
          "output_type": "stream",
          "name": "stdout",
          "text": [
            "Entrer l' abscisse de A6\n",
            "Entrer l' ordonnee de A9\n",
            "2.0 -2.0 -2.0\n"
          ]
        }
      ]
    },
    {
      "cell_type": "markdown",
      "metadata": {
        "id": "2f74d685"
      },
      "source": [
        "**Exercice 08:** \n",
        "> **Rédigez un script qui demande à l'utilisateur d'entrer les heures et le taux horaire. Calculez la rémunération de la personne ?**"
      ],
      "id": "2f74d685"
    },
    {
      "cell_type": "code",
      "metadata": {
        "colab": {
          "base_uri": "https://localhost:8080/"
        },
        "id": "7cff5a0a",
        "outputId": "2178cf1f-a508-470d-b965-c73b8c3c0140"
      },
      "source": [
        "h=input('Entrer les heures:')\n",
        "t=input('Enter le taux horaires:')\n",
        "s=float(h)*float(t)\n",
        "print(\"Votre salaire est de:\",s)"
      ],
      "id": "7cff5a0a",
      "execution_count": null,
      "outputs": [
        {
          "output_type": "stream",
          "name": "stdout",
          "text": [
            "Entrer les heures:5\n",
            "Enter le taux horaires:1000\n",
            "Votre salaire est de: 5000.0\n"
          ]
        }
      ]
    },
    {
      "cell_type": "markdown",
      "metadata": {
        "id": "6ddd662c"
      },
      "source": [
        "**Exercice 09:** \n",
        "> **Écrivez un script qui demande à l'utilisateur d'entrer le nombre d'années. Calculez le nombre de secondes qu'une personne peut vivre. Supposons qu'une personne puisse vivre cent ans.**"
      ],
      "id": "6ddd662c"
    },
    {
      "cell_type": "code",
      "metadata": {
        "colab": {
          "base_uri": "https://localhost:8080/"
        },
        "id": "44c2a63c",
        "outputId": "728baae5-3bac-4d9a-e8a6-5d3ed94e155c"
      },
      "source": [
        "n=input(\"Entrer le nombre d'annee: \")\n",
        "if int(n) > 100:\n",
        "  print('Good bye')\n",
        "else:\n",
        "  ne = 100-int(n)\n",
        "  print('vous pourrez vivre encore', ne*30*12*24*120, 'secondes')\n",
        "\n"
      ],
      "id": "44c2a63c",
      "execution_count": null,
      "outputs": [
        {
          "output_type": "stream",
          "name": "stdout",
          "text": [
            "Entrer le nombre d'annee: 80\n",
            "vous pourrez vivre encore 20736000 secondes\n"
          ]
        }
      ]
    },
    {
      "cell_type": "code",
      "metadata": {
        "id": "cc-nc7Op25ny"
      },
      "source": [
        ""
      ],
      "id": "cc-nc7Op25ny",
      "execution_count": null,
      "outputs": []
    },
    {
      "cell_type": "markdown",
      "metadata": {
        "id": "9b253387"
      },
      "source": [
        "**Exercice 10:** \n",
        "> **Écrivez un script Python qui affiche le tableau suivant**\n",
        "\n",
        "    1 1 1 1 1\n",
        "    \n",
        "    2 1 2 4 8\n",
        "    \n",
        "    3 1 3 9 27\n",
        "    \n",
        "    4 1 4 16 64\n",
        "    \n",
        "    5 1 5 25 125"
      ],
      "id": "9b253387"
    },
    {
      "cell_type": "code",
      "metadata": {
        "colab": {
          "base_uri": "https://localhost:8080/"
        },
        "id": "aa2dae84",
        "outputId": "329d44a3-67da-4a26-dc98-f18292f0f00c"
      },
      "source": [
        "k=1\n",
        "for i in range(1,6):\n",
        "  print(i,k,i,i*i,i*i*i)\n",
        " "
      ],
      "id": "aa2dae84",
      "execution_count": null,
      "outputs": [
        {
          "output_type": "stream",
          "name": "stdout",
          "text": [
            "1 1 1 1 1\n",
            "2 1 2 4 8\n",
            "3 1 3 9 27\n",
            "4 1 4 16 64\n",
            "5 1 5 25 125\n"
          ]
        }
      ]
    },
    {
      "cell_type": "markdown",
      "metadata": {
        "id": "953e7d8c"
      },
      "source": [
        "**Exercise 11:** \n",
        ">**Assign the variables `time` and `distance` with the values $6.892$ and $19.7$. Calculate and display the value of the speed. Improve the display by imposing a digit after the decimal point.**"
      ],
      "id": "953e7d8c"
    },
    {
      "cell_type": "code",
      "metadata": {
        "colab": {
          "base_uri": "https://localhost:8080/"
        },
        "id": "6d787289",
        "outputId": "76049bf9-bd26-4cb2-cf43-39606112d0f6"
      },
      "source": [
        "time = 6.892\n",
        "distance=19.7\n",
        "speed=distance/time\n",
        "print('The speed is ',format(speed, \".2f\"))\n"
      ],
      "id": "6d787289",
      "execution_count": null,
      "outputs": [
        {
          "output_type": "stream",
          "name": "stdout",
          "text": [
            "The speed is  2.86\n"
          ]
        }
      ]
    },
    {
      "cell_type": "markdown",
      "metadata": {
        "id": "2d0f1ff9"
      },
      "source": [
        "**Exercice 12:** \n",
        "> **Écrire un programme qui, à partir de la saisie d’un rayon et d’une hauteur, calcule levolume d’un cône droit.**"
      ],
      "id": "2d0f1ff9"
    },
    {
      "cell_type": "code",
      "metadata": {
        "colab": {
          "base_uri": "https://localhost:8080/"
        },
        "id": "969f5f68",
        "outputId": "445aa5ff-90fe-4018-8092-6746e967f05a"
      },
      "source": [
        "r=input('Entrer le rayon:')\n",
        "h=input('Enter la hauteur:')\n",
        "v=float(h)*float(r)*float(r)/3\n",
        "print(\"Le volume du cone droit est de:\",format(v, \".2f\"))"
      ],
      "id": "969f5f68",
      "execution_count": null,
      "outputs": [
        {
          "output_type": "stream",
          "name": "stdout",
          "text": [
            "Entrer le rayon:2\n",
            "Enter la hauteur:2\n",
            "Le volume du cone droit est de: 2.67\n"
          ]
        }
      ]
    },
    {
      "cell_type": "markdown",
      "metadata": {
        "id": "e9b3ce2a"
      },
      "source": [
        "**Exercise 13:** \n",
        "> **The user gives a positive integer and the program announces how many times in a row this integer is divisible by 2.**"
      ],
      "id": "e9b3ce2a"
    },
    {
      "cell_type": "code",
      "metadata": {
        "colab": {
          "base_uri": "https://localhost:8080/"
        },
        "id": "5c8fea9a",
        "outputId": "503d017d-d2c5-41b4-c137-2adf7d893035"
      },
      "source": [
        "n=input('Entrer le nombre:')\n",
        "i=0\n",
        "while float(n)%2!=0:\n",
        " i=i+1\n",
        " print(i)"
      ],
      "id": "5c8fea9a",
      "execution_count": null,
      "outputs": [
        {
          "output_type": "stream",
          "name": "stdout",
          "text": [
            "Entrer le nombre:2\n",
            "0\n"
          ]
        }
      ]
    },
    {
      "cell_type": "markdown",
      "metadata": {
        "id": "0485aed6"
      },
      "source": [
        "**Exercise 14:** \n",
        ">**The user gives an integer between 2 and 12, the program gives the number of ways to do this by rolling two dice."
      ],
      "id": "0485aed6"
    },
    {
      "cell_type": "code",
      "metadata": {
        "id": "31f48a15"
      },
      "source": [
        ""
      ],
      "id": "31f48a15",
      "execution_count": null,
      "outputs": []
    },
    {
      "cell_type": "markdown",
      "metadata": {
        "id": "cead0c8f"
      },
      "source": [
        "**Exercice 15:** \n",
        "> **Utilisez la fonction d'entrée intégrée `input()` pour obtenir le `_prénom_`, le `_nom_`, le `_pays_d_origine` et l'`_age_` d'un utilisateur et stockez la valeur dans les noms des variables correspondantes.**"
      ],
      "id": "cead0c8f"
    },
    {
      "cell_type": "code",
      "metadata": {
        "id": "0a2694a9"
      },
      "source": [
        "prenom=input(\"Entrer votre prenom\")\n",
        "nom=input(\"Entrer le nom\")\n",
        "pays=input(\"Entrer le pays d'origine\")\n",
        "age = input(\"Entrer votre age\")"
      ],
      "id": "0a2694a9",
      "execution_count": null,
      "outputs": []
    },
    {
      "cell_type": "markdown",
      "metadata": {
        "id": "33240a56"
      },
      "source": [
        "**Exercice 16:** \n",
        "\n",
        "**Déclarer $5$ comme `num_one` et $4$ comme `num_two`**\n",
        "\n",
        "   1. Additionner `num_one` et `num_two` et affecter la valeur à une variable `totale`.\n",
        "   2. Soustraire `num_two` de `num_one` et affecter la valeur à une variable `diff`.\n",
        "   3. Multipliez le `num_one` et le `num_two` et attribuez la valeur à une variable `produit`.\n",
        "   4. Divisez le `num_one` par le `num_two` et attribuez la valeur à une variable `division`.\n",
        "   5. Calculez `num_one` à la puissance de `num_two` et attribuez la valeur à une variable `exp`."
      ],
      "id": "33240a56"
    },
    {
      "cell_type": "code",
      "metadata": {
        "id": "c2f3e814"
      },
      "source": [
        "num_one=5\n",
        "num_two=4\n",
        "totale=num_two+num_one\n",
        "diff=num_two-num_one\n",
        "produit=num_two*num_one\n",
        "division=num_one/num_two\n",
        "exp=num_one**num_two\n"
      ],
      "id": "c2f3e814",
      "execution_count": null,
      "outputs": []
    },
    {
      "cell_type": "markdown",
      "metadata": {
        "id": "80763237"
      },
      "source": [
        "<center> <b> <span style=\"color:orange;\"> 🎉 FÉLICITATIONS! / CONGRATULATIONS! 🎉 </span> </b></center>"
      ],
      "id": "80763237"
    }
  ]
}