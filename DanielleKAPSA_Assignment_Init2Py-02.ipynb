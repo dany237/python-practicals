{
 "cells": [
  {
   "cell_type": "markdown",
   "metadata": {},
   "source": [
    "# Assignment 2 : Init2Py-02 – Functions & Recursions"
   ]
  },
  {
   "cell_type": "markdown",
   "metadata": {},
   "source": [
    "1. Write a python script that asks the user for the values of x and y and uses these inputs to\n",
    "compute the numerical value."
   ]
  },
  {
   "cell_type": "code",
   "execution_count": 1,
   "metadata": {
    "collapsed": false
   },
   "outputs": [
    {
     "name": "stdout",
     "output_type": "stream",
     "text": [
      "Enter the first value : 2\n",
      "Enter the second value : 2\n",
      "1.725182816523866\n"
     ]
    }
   ],
   "source": [
    "import math\n",
    "x=float(input(\"Enter the first value : \"))\n",
    "y= float(input(\"Enter the second value : \"))\n",
    "if x!=0 :\n",
    "    r= (math.sqrt(x**(2+y)))/((1/x)+2*math.sin(y))\n",
    "    print(r)\n",
    "else :\n",
    "    print(\"No solution\")"
   ]
  },
  {
   "cell_type": "markdown",
   "metadata": {},
   "source": [
    "2.a Write a function that given two integers b and n (n is positive), calculates b\n",
    "n without using python’s power operator. Name this function ownpowerfn.py.\n"
   ]
  },
  {
   "cell_type": "code",
   "execution_count": 9,
   "metadata": {
    "collapsed": true
   },
   "outputs": [],
   "source": [
    "#our own power function\n",
    "def ownpowerfn1(b,n):\n",
    "    if n<0: # test is n is negative number return 0 in this case \n",
    "        return 0 \n",
    "    else:\n",
    "        p=1\n",
    "        for i in range(n):\n",
    "            p=p*b\n",
    "        return p"
   ]
  },
  {
   "cell_type": "code",
   "execution_count": 10,
   "metadata": {
    "collapsed": false
   },
   "outputs": [
    {
     "name": "stdout",
     "output_type": "stream",
     "text": [
      "100\n"
     ]
    }
   ],
   "source": [
    "ownpowerfn(10,2)"
   ]
  },
  {
   "cell_type": "markdown",
   "metadata": {},
   "source": [
    "2.b  What if we do not specify that n has to be positive ?\n",
    "\n",
    "If we don't specify that n should be a positive number we will obtain the negative power and as a result we will have always zero."
   ]
  },
  {
   "cell_type": "markdown",
   "metadata": {},
   "source": [
    "3.a Takes two arguments, and computes their arithmetic and geometric means. Name\n",
    "these functions arithmetic_mean and geometric_mean respectively."
   ]
  },
  {
   "cell_type": "code",
   "execution_count": null,
   "metadata": {
    "collapsed": true
   },
   "outputs": [],
   "source": []
  },
  {
   "cell_type": "code",
   "execution_count": 11,
   "metadata": {
    "collapsed": true
   },
   "outputs": [],
   "source": [
    "def arithmetic_mean(a,b) :\n",
    "    Ar_mean=(a+b)/2\n",
    "    return Ar_mean\n",
    "    \n",
    "def geometric_mean(m,n) :\n",
    "    Geo_mean=math.sqrt(m*n)\n",
    "    return Geo_mean"
   ]
  },
  {
   "cell_type": "code",
   "execution_count": 12,
   "metadata": {
    "collapsed": false
   },
   "outputs": [
    {
     "name": "stdout",
     "output_type": "stream",
     "text": [
      "4.0\n",
      "3.4641016151377544\n"
     ]
    }
   ],
   "source": [
    "print(arithmetic_mean(2,6))\n",
    "print(geometric_mean(2,6))"
   ]
  },
  {
   "cell_type": "markdown",
   "metadata": {},
   "source": [
    "3.b Converts degree Celsius to Fahrenheit and vice versa. Name these two functions\n",
    "celcius_to_fahrenheit and fahrenheit_to_celcius respectively."
   ]
  },
  {
   "cell_type": "code",
   "execution_count": 13,
   "metadata": {
    "collapsed": true
   },
   "outputs": [],
   "source": [
    "def celcius_to_fahrenheit (C) :\n",
    "    F=(C*(9/5))+32\n",
    "    return F\n",
    "    \n",
    "def fahrenheit_to_celcius(F) :\n",
    "    C = (5/9)*(F - 32)\n",
    "    return C"
   ]
  },
  {
   "cell_type": "code",
   "execution_count": 16,
   "metadata": {
    "collapsed": false
   },
   "outputs": [
    {
     "name": "stdout",
     "output_type": "stream",
     "text": [
      "12  is the convention of  53.6  degree Celsius to Fahrenheit\n",
      "53.6  is the convention of  12.000000000000002  degree Celsius to Fahrenheit\n"
     ]
    }
   ],
   "source": [
    "C=12\n",
    "F=53.6\n",
    "\n",
    "print(C, \" is the convention of \", celcius_to_fahrenheit (C) , \" degree Celsius to Fahrenheit\")\n",
    "print(F, \" is the convention of \", fahrenheit_to_celcius(F) , \" degree Celsius to Fahrenheit\")  \n",
    "    "
   ]
  },
  {
   "cell_type": "markdown",
   "metadata": {},
   "source": [
    "3.c Converts angle in degrees to radians and vice versa. Name these two functions\n",
    "degrees_to_radians and radians_to_degrees respectively."
   ]
  },
  {
   "cell_type": "code",
   "execution_count": 15,
   "metadata": {
    "collapsed": true
   },
   "outputs": [],
   "source": [
    "def degrees_to_radians (D) :\n",
    "    R=(D*math.pi)/180\n",
    "    return R\n",
    "     \n",
    "    \n",
    "def fahrenheit_to_celcius(R) :\n",
    "    D=(R*180)/math.pi\n",
    "    return D\n",
    "    "
   ]
  },
  {
   "cell_type": "code",
   "execution_count": 21,
   "metadata": {
    "collapsed": false
   },
   "outputs": [
    {
     "name": "stdout",
     "output_type": "stream",
     "text": [
      "180  is the convention of   10313.240312354817  degree to  raduis \n",
      "3.141592653589793  is the convention of  0.05483113556160754  rraduis to  degree \n"
     ]
    }
   ],
   "source": [
    "R=180\n",
    "D=math.pi\n",
    "\n",
    "print(R, \" is the convention of  \", fahrenheit_to_celcius(R) , \" degree to  raduis \") \n",
    "print(D, \" is the convention of \", degrees_to_radians (D)  , \" rraduis to  degree \")"
   ]
  },
  {
   "cell_type": "markdown",
   "metadata": {},
   "source": [
    "3.d Computes the circumference and the area of a circle given the radius.\n"
   ]
  },
  {
   "cell_type": "code",
   "execution_count": 16,
   "metadata": {
    "collapsed": true
   },
   "outputs": [],
   "source": [
    "def circumference_Area_Sphere(r):\n",
    "        circ = 2*math.pi*r\n",
    "        area = math.pi* r**2\n",
    "        return circ, area"
   ]
  },
  {
   "cell_type": "code",
   "execution_count": 17,
   "metadata": {
    "collapsed": false
   },
   "outputs": [
    {
     "data": {
      "text/plain": [
       "(18.84955592153876, 28.274333882308138)"
      ]
     },
     "execution_count": 17,
     "metadata": {},
     "output_type": "execute_result"
    }
   ],
   "source": [
    "circumference_Area_Sphere(3)"
   ]
  },
  {
   "cell_type": "markdown",
   "metadata": {},
   "source": [
    "3.a Given two numbers, compute their average and geometrical mean and prints them.\n",
    "Now write a program that performs this process 10 times, taking as input the means\n",
    "computed in the previous step. Name this function avggeom."
   ]
  },
  {
   "cell_type": "code",
   "execution_count": 18,
   "metadata": {
    "collapsed": true
   },
   "outputs": [],
   "source": [
    "def mean_And_meanGeo(a,b) :\n",
    "    moy=(a+b)/2\n",
    "    moy_Geo=math.sqrt(a*b)\n",
    "    return moy , moy_Geo"
   ]
  },
  {
   "cell_type": "code",
   "execution_count": 19,
   "metadata": {
    "collapsed": true
   },
   "outputs": [],
   "source": [
    "def avggeom (a,b) :\n",
    "    return 10*mean_And_meanGeo(a,b)"
   ]
  },
  {
   "cell_type": "code",
   "execution_count": 20,
   "metadata": {
    "collapsed": false
   },
   "outputs": [
    {
     "data": {
      "text/plain": [
       "(4.0,\n",
       " 3.4641016151377544,\n",
       " 4.0,\n",
       " 3.4641016151377544,\n",
       " 4.0,\n",
       " 3.4641016151377544,\n",
       " 4.0,\n",
       " 3.4641016151377544,\n",
       " 4.0,\n",
       " 3.4641016151377544,\n",
       " 4.0,\n",
       " 3.4641016151377544,\n",
       " 4.0,\n",
       " 3.4641016151377544,\n",
       " 4.0,\n",
       " 3.4641016151377544,\n",
       " 4.0,\n",
       " 3.4641016151377544,\n",
       " 4.0,\n",
       " 3.4641016151377544)"
      ]
     },
     "execution_count": 20,
     "metadata": {},
     "output_type": "execute_result"
    }
   ],
   "source": [
    "avggeom (2,6)"
   ]
  },
  {
   "cell_type": "markdown",
   "metadata": {},
   "source": [
    "3.b Write a function that computes the distance between two points in the plane. Use\n",
    "it in another program that computes the perimeter and the area of a triangle, given\n",
    "three points in the plane. Name this function distancefn."
   ]
  },
  {
   "cell_type": "code",
   "execution_count": 24,
   "metadata": {
    "collapsed": true
   },
   "outputs": [],
   "source": [
    "def distance(p1,p2,t1,t2) :\n",
    "    EuclDist=math.sqrt((p2-p1)**2+(t2-t1)**2)\n",
    "    return EuclDist"
   ]
  },
  {
   "cell_type": "code",
   "execution_count": 26,
   "metadata": {
    "collapsed": true
   },
   "outputs": [],
   "source": [
    "def distancefn(x1,x2,x3,y1,y2,y3):\n",
    "        perim = distance(x1,x2,y1,y2)+distance(x2,x3,y2,y3)+distance(x1,x3,y1,y3)\n",
    "        area = (distance(x2,x3,y2,y3)*distance(x1,x2,y1,y2))/2\n",
    "        return perim , area"
   ]
  },
  {
   "cell_type": "code",
   "execution_count": 27,
   "metadata": {
    "collapsed": false
   },
   "outputs": [
    {
     "data": {
      "text/plain": [
       "(6.650281539872885, 2.121320343559643)"
      ]
     },
     "execution_count": 27,
     "metadata": {},
     "output_type": "execute_result"
    }
   ],
   "source": [
    "distancefn(1,0,0,1,2,-1)"
   ]
  },
  {
   "cell_type": "markdown",
   "metadata": {},
   "source": [
    "5.  Write a program that offers three options to the user: \\n\n",
    "    1.Evaluation of factorial\n",
    "    2.Evaluation of a second degree equation\n",
    "    3.Exit"
   ]
  },
  {
   "cell_type": "code",
   "execution_count": 28,
   "metadata": {
    "collapsed": true
   },
   "outputs": [],
   "source": [
    "def fact(n):\n",
    "    if n==0:\n",
    "        return 1\n",
    "    else:\n",
    "        return n*fact(n-1)"
   ]
  },
  {
   "cell_type": "code",
   "execution_count": 50,
   "metadata": {
    "collapsed": true
   },
   "outputs": [],
   "source": [
    "def Discriminant (a,b,c):\n",
    "    D= b*b -4*a*c\n",
    "    return D"
   ]
  },
  {
   "cell_type": "code",
   "execution_count": 62,
   "metadata": {
    "collapsed": false
   },
   "outputs": [],
   "source": [
    "import math\n",
    "def Sndequation(a,b,c):\n",
    "    D=Discriminant (a,b,c)\n",
    "    if D < 0:\n",
    "        print('No solution for the equation')\n",
    "    elif D==0:\n",
    "        print('Unique solution', -b/2*a)\n",
    "    else:\n",
    "        x1=(-b+ math.sqrt(D))/(2*a)\n",
    "        x2=(-b- math.sqrt(D))/(2*a)\n",
    "        print('we have two solutions ', x1  ,x2)"
   ]
  },
  {
   "cell_type": "code",
   "execution_count": 67,
   "metadata": {
    "collapsed": false
   },
   "outputs": [
    {
     "name": "stdout",
     "output_type": "stream",
     "text": [
      "Welcome to our Program \n",
      " **********************\n",
      " Enter:  \n",
      " 1>  Evaluation of Factorial \n",
      " 2>  Evaluation of Second Degree of equation \n",
      " 3>  Exit\n",
      "Make you choice :1\n",
      "Evaluation of Factorial \n",
      " **********************\n",
      "\n",
      "Enter the number to compute the factoriel:2\n",
      "\n",
      " **********************\n",
      " The Factoriel of 2 is  2\n",
      "Do you want to continue ? Y/N :Y\n",
      "Welcome to our Program \n",
      " **********************\n",
      " Enter:  \n",
      " 1>  Evaluation of Factorial \n",
      " 2>  Evaluation of Second Degree of equation \n",
      " 3>  Exit\n",
      "Make you choice :3\n",
      "Do you want to continue ? Y/N :N\n",
      "Thank you and Good Bye\n"
     ]
    }
   ],
   "source": [
    "response=0\n",
    "resp=\"Y\"\n",
    "\n",
    "while response!= 3 and resp== 'Y':\n",
    "    print('Welcome to our Program \\n **********************\\n Enter:  \\n 1>  Evaluation of Factorial \\n 2>  Evaluation of Second Degree of equation \\n 3>  Exit')\n",
    "    response = int(input('Make you choice :'))\n",
    "    if response == 1:\n",
    "        print('Evaluation of Factorial \\n **********************\\n')\n",
    "        n=int(input(\"Enter the number to compute the factoriel:\"))\n",
    "        print ('\\n **********************\\n The Factoriel of', n, 'is ', fact(n))\n",
    "    elif response == 2:\n",
    "        print('Evaluation of a second degree equation')\n",
    "        a=float(input('Enter the value of a : '))\n",
    "        b=float(input('Enter the value of b : '))\n",
    "        c=float(input('Enter the value of c: '))\n",
    "        Sndequation(a,b,c)\n",
    "    resp = input('Do you want to continue ? Y/N :')\n",
    "if response == 3 :\n",
    "    print('Thank you and Good Bye')\n",
    "    "
   ]
  },
  {
   "cell_type": "markdown",
   "metadata": {},
   "source": [
    "6. For a fixed real number x and a natural number n, we can define recursively function\n",
    "    "
   ]
  },
  {
   "cell_type": "code",
   "execution_count": 76,
   "metadata": {
    "collapsed": true
   },
   "outputs": [],
   "source": [
    "def power(x,n) :\n",
    "    if n == 0 :\n",
    "        return 1\n",
    "    if n%2 == 0 :\n",
    "        m=power(x,n/2)\n",
    "        return m*m\n",
    "    else :\n",
    "        return x*power(x,n-1)"
   ]
  },
  {
   "cell_type": "code",
   "execution_count": 78,
   "metadata": {
    "collapsed": false
   },
   "outputs": [
    {
     "data": {
      "text/plain": [
       "1024"
      ]
     },
     "execution_count": 78,
     "metadata": {},
     "output_type": "execute_result"
    }
   ],
   "source": [
    "power(2,10)"
   ]
  },
  {
   "cell_type": "markdown",
   "metadata": {},
   "source": [
    "7. Write code that implements the Fibonacci sequence. Test your program at 100."
   ]
  },
  {
   "cell_type": "code",
   "execution_count": 22,
   "metadata": {
    "collapsed": false
   },
   "outputs": [
    {
     "data": {
      "text/plain": [
       "3.542248481792631e+20"
      ]
     },
     "execution_count": 22,
     "metadata": {},
     "output_type": "execute_result"
    }
   ],
   "source": [
    "Fibonacci(100)"
   ]
  },
  {
   "cell_type": "code",
   "execution_count": 75,
   "metadata": {
    "collapsed": false
   },
   "outputs": [],
   "source": [
    "n=100\n",
    "def Fibonacci(n):\n",
    "    a0=int(input('Enter first number:'))\n",
    "    a1=int(input('Enter second number:'))\n",
    "    for i in range(n):\n",
    "        an=a1+a0\n",
    "        a0, a1=a1, an\n",
    "    return an1"
   ]
  },
  {
   "cell_type": "code",
   "execution_count": 74,
   "metadata": {
    "collapsed": false
   },
   "outputs": [
    {
     "name": "stdout",
     "output_type": "stream",
     "text": [
      "Enter first number:1\n",
      "Enter second number:0\n"
     ]
    },
    {
     "data": {
      "text/plain": [
       "354224848179261915075"
      ]
     },
     "execution_count": 74,
     "metadata": {},
     "output_type": "execute_result"
    }
   ],
   "source": [
    "Fibonacci(100)"
   ]
  }
 ],
 "metadata": {
  "kernelspec": {
   "display_name": "Python 3",
   "language": "python",
   "name": "python3"
  },
  "language_info": {
   "codemirror_mode": {
    "name": "ipython",
    "version": 3
   },
   "file_extension": ".py",
   "mimetype": "text/x-python",
   "name": "python",
   "nbconvert_exporter": "python",
   "pygments_lexer": "ipython3",
   "version": "3.5.3"
  }
 },
 "nbformat": 4,
 "nbformat_minor": 4
}
